{
 "cells": [
  {
   "cell_type": "code",
   "execution_count": 2,
   "metadata": {},
   "outputs": [],
   "source": [
    "\n",
    "import h5py\n",
    "import torch\n",
    "import torch.nn as nn\n",
    "import random\n",
    "\n",
    "\n",
    "import os\n",
    "import sys\n",
    "import numpy as np\n",
    "import matplotlib.pyplot as plt\n",
    "import datetime\n",
    "from tempfile import TemporaryFile\n",
    "from scipy.io import loadmat\n",
    "from scipy.io import savemat\n",
    "from torch.utils.data import DataLoader, TensorDataset\n",
    "\n",
    "# Add the Torch_code directory to the Python path\n",
    "# sys.path.insert(0, os.path.abspath(os.path.join(os.getcwd(), '..')))\n",
    "sys.path.append(os.path.abspath('../helper'))\n",
    "import config\n",
    "import utils\n",
    "import loader\n",
    "# import skfuzzy as fuzz"
   ]
  },
  {
   "cell_type": "code",
   "execution_count": 3,
   "metadata": {},
   "outputs": [],
   "source": [
    "# FILE_PATH = os.path.dirname(os.path.abspath(\"__file__\"))\n",
    "# print(FILE_PATH)\n",
    "# print(config.temp_path)\n",
    "# print(config.FILE_PATH)"
   ]
  },
  {
   "cell_type": "code",
   "execution_count": 4,
   "metadata": {},
   "outputs": [],
   "source": [
    "# Configuration\n",
    "os.environ[\"CUDA_DEVICE_ORDER\"] = \"PCI_BUS_ID\"\n",
    "# os.environ[\"CUDA_VISIBLE_DEVICES\"] = \"0\"\n",
    "device = torch.device('cuda:0' if torch.cuda.is_available() else 'cpu')\n",
    "\n",
    "BATCH_SIZE = 32 #64  # Batch size\n",
    "NUM_EPOCHS = 20 # 20\n"
   ]
  },
  {
   "cell_type": "code",
   "execution_count": 7,
   "metadata": {},
   "outputs": [
    {
     "name": "stdout",
     "output_type": "stream",
     "text": [
      " SNR: 0/30\n",
      " Training for LS+LI\n",
      "SNR: 0/30, LS+LI, Epoch 1/20, Loss: 0.0748037034276836 \n",
      "SNR: 0/30, LS+LI, Val Loss: 0.02056214523812135\n",
      "SNR: 0/30, LS+LI, Epoch 2/20, Loss: 0.010532197651988135 \n",
      "SNR: 0/30, LS+LI, Val Loss: 0.0026812218808724233\n",
      "SNR: 0/30, LS+LI, Epoch 3/20, Loss: 0.0018153037693775674 \n",
      "SNR: 0/30, LS+LI, Val Loss: 0.0013601335473746683\n",
      "SNR: 0/30, LS+LI, Epoch 4/20, Loss: 0.0010615912001547727 \n",
      "SNR: 0/30, LS+LI, Val Loss: 0.0007970556616783142\n",
      "SNR: 0/30, LS+LI, Epoch 5/20, Loss: 0.0006280992741150191 \n",
      "SNR: 0/30, LS+LI, Val Loss: 0.000501888333625781\n",
      "SNR: 0/30, LS+LI, Epoch 6/20, Loss: 0.0004239326425353157 \n",
      "SNR: 0/30, LS+LI, Val Loss: 0.00037193492365380126\n",
      "SNR: 0/30, LS+LI, Epoch 7/20, Loss: 0.00034462213756846226 \n",
      "SNR: 0/30, LS+LI, Val Loss: 0.00032422533998518094\n",
      "SNR: 0/30, LS+LI, Epoch 8/20, Loss: 0.0003145035684925947 \n",
      "SNR: 0/30, LS+LI, Val Loss: 0.00030287165463960264\n",
      "SNR: 0/30, LS+LI, Epoch 9/20, Loss: 0.00029544406994084577 \n",
      "SNR: 0/30, LS+LI, Val Loss: 0.000288151884888066\n",
      "SNR: 0/30, LS+LI, Epoch 10/20, Loss: 0.00027756824816282065 \n",
      "SNR: 0/30, LS+LI, Val Loss: 0.0002719037723484992\n",
      "SNR: 0/30, LS+LI, Epoch 11/20, Loss: 0.0002650687628653878 \n",
      "SNR: 0/30, LS+LI, Val Loss: 0.0002688839443483933\n",
      "SNR: 0/30, LS+LI, Epoch 12/20, Loss: 0.0002566109417757886 \n",
      "SNR: 0/30, LS+LI, Val Loss: 0.0002503660774285284\n",
      "SNR: 0/30, LS+LI, Epoch 13/20, Loss: 0.0002484697046618226 \n",
      "SNR: 0/30, LS+LI, Val Loss: 0.00024492176999046933\n",
      "SNR: 0/30, LS+LI, Epoch 14/20, Loss: 0.0002422491489767816 \n",
      "SNR: 0/30, LS+LI, Val Loss: 0.00023851237892813515\n",
      "SNR: 0/30, LS+LI, Epoch 15/20, Loss: 0.0002337827697761661 \n",
      "SNR: 0/30, LS+LI, Val Loss: 0.0002337936651504909\n",
      "SNR: 0/30, LS+LI, Epoch 16/20, Loss: 0.00023073533844977323 \n",
      "SNR: 0/30, LS+LI, Val Loss: 0.00023189219973573927\n",
      "SNR: 0/30, LS+LI, Epoch 17/20, Loss: 0.000226826307096975 \n",
      "SNR: 0/30, LS+LI, Val Loss: 0.000226576140751907\n",
      "SNR: 0/30, LS+LI, Epoch 18/20, Loss: 0.00022476518592661209 \n",
      "SNR: 0/30, LS+LI, Val Loss: 0.00022112930006793854\n",
      "SNR: 0/30, LS+LI, Epoch 19/20, Loss: 0.00022093522600716644 \n",
      "SNR: 0/30, LS+LI, Val Loss: 0.00021879831911064684\n",
      "SNR: 0/30, LS+LI, Epoch 20/20, Loss: 0.00021583149566932922 \n",
      "SNR: 0/30, LS+LI, Val Loss: 0.00021970801208226476\n",
      "LS+LI NMSE: 0.08205000311136246\n",
      "LS+LI+CNN NMSE: 0.007032822817564011\n",
      " Training for LS\n",
      "SNR: 0/30, LS, Epoch 1/20, Loss: 0.09900715414176484 \n",
      "SNR: 0/30, LS, Val Loss: 0.04029014675567547\n",
      "SNR: 0/30, LS, Epoch 2/20, Loss: 0.03257407337464023 \n",
      "SNR: 0/30, LS, Val Loss: 0.028710787106926244\n",
      "SNR: 0/30, LS, Epoch 3/20, Loss: 0.02569732932134135 \n",
      "SNR: 0/30, LS, Val Loss: 0.021342318737879395\n",
      "SNR: 0/30, LS, Epoch 4/20, Loss: 0.011368868992972824 \n",
      "SNR: 0/30, LS, Val Loss: 0.002195439432398416\n",
      "SNR: 0/30, LS, Epoch 5/20, Loss: 0.0015188722365817038 \n",
      "SNR: 0/30, LS, Val Loss: 0.0012474323472512576\n",
      "SNR: 0/30, LS, Epoch 6/20, Loss: 0.001034497492889053 \n",
      "SNR: 0/30, LS, Val Loss: 0.0008550917191314511\n",
      "SNR: 0/30, LS, Epoch 7/20, Loss: 0.0007518617673154625 \n",
      "SNR: 0/30, LS, Val Loss: 0.0007012098770549832\n",
      "SNR: 0/30, LS, Epoch 8/20, Loss: 0.0006378277054801123 \n",
      "SNR: 0/30, LS, Val Loss: 0.0006125122527009808\n",
      "SNR: 0/30, LS, Epoch 9/20, Loss: 0.0005776062528522095 \n",
      "SNR: 0/30, LS, Val Loss: 0.0005506707190458352\n",
      "SNR: 0/30, LS, Epoch 10/20, Loss: 0.0005323746344501079 \n",
      "SNR: 0/30, LS, Val Loss: 0.0005397432166015884\n",
      "SNR: 0/30, LS, Epoch 11/20, Loss: 0.0004960684017001624 \n",
      "SNR: 0/30, LS, Val Loss: 0.0004914201502591217\n",
      "SNR: 0/30, LS, Epoch 12/20, Loss: 0.0004756398682567835 \n",
      "SNR: 0/30, LS, Val Loss: 0.0004683754256499621\n",
      "SNR: 0/30, LS, Epoch 13/20, Loss: 0.00045263471420725236 \n",
      "SNR: 0/30, LS, Val Loss: 0.0004510515342796377\n",
      "SNR: 0/30, LS, Epoch 14/20, Loss: 0.00043896271237448816 \n",
      "SNR: 0/30, LS, Val Loss: 0.0004345122858164056\n",
      "SNR: 0/30, LS, Epoch 15/20, Loss: 0.0004294772994344925 \n",
      "SNR: 0/30, LS, Val Loss: 0.00042717850495440263\n",
      "SNR: 0/30, LS, Epoch 16/20, Loss: 0.0004159165655797587 \n",
      "SNR: 0/30, LS, Val Loss: 0.00041189043622580357\n",
      "SNR: 0/30, LS, Epoch 17/20, Loss: 0.00040758681762502485 \n",
      "SNR: 0/30, LS, Val Loss: 0.00040193553650169633\n",
      "SNR: 0/30, LS, Epoch 18/20, Loss: 0.0003987153648285859 \n",
      "SNR: 0/30, LS, Val Loss: 0.00040886876255778287\n",
      "SNR: 0/30, LS, Epoch 19/20, Loss: 0.00039377852471540726 \n",
      "SNR: 0/30, LS, Val Loss: 0.0004240909584041219\n",
      "SNR: 0/30, LS, Epoch 20/20, Loss: 0.0003860390116633515 \n",
      "SNR: 0/30, LS, Val Loss: 0.0003840569321861646\n",
      "LS+CNN NMSE: 0.012292937375605106\n",
      " SNR: 5/30\n",
      " Training for LS+LI\n",
      "SNR: 5/30, LS+LI, Epoch 1/20, Loss: 0.09121777179033154 \n",
      "SNR: 5/30, LS+LI, Val Loss: 0.018735930090770125\n",
      "SNR: 5/30, LS+LI, Epoch 2/20, Loss: 0.00822801720742874 \n",
      "SNR: 5/30, LS+LI, Val Loss: 0.0018858529850452517\n",
      "SNR: 5/30, LS+LI, Epoch 3/20, Loss: 0.0011473344203826999 \n",
      "SNR: 5/30, LS+LI, Val Loss: 0.000695767509265958\n",
      "SNR: 5/30, LS+LI, Epoch 4/20, Loss: 0.0004990575228538825 \n",
      "SNR: 5/30, LS+LI, Val Loss: 0.00033310859483511496\n",
      "SNR: 5/30, LS+LI, Epoch 5/20, Loss: 0.0002544484213472916 \n",
      "SNR: 5/30, LS+LI, Val Loss: 0.0001919084297696827\n",
      "SNR: 5/30, LS+LI, Epoch 6/20, Loss: 0.0001724329759772535 \n",
      "SNR: 5/30, LS+LI, Val Loss: 0.00015306332594870278\n",
      "SNR: 5/30, LS+LI, Epoch 7/20, Loss: 0.0001451067964628219 \n",
      "SNR: 5/30, LS+LI, Val Loss: 0.0001322551170233055\n",
      "SNR: 5/30, LS+LI, Epoch 8/20, Loss: 0.00012958734578655867 \n",
      "SNR: 5/30, LS+LI, Val Loss: 0.00011976551316668822\n",
      "SNR: 5/30, LS+LI, Epoch 9/20, Loss: 0.00011935775226015497 \n",
      "SNR: 5/30, LS+LI, Val Loss: 0.00011254918445047224\n",
      "SNR: 5/30, LS+LI, Epoch 10/20, Loss: 0.00011228597033532603 \n",
      "SNR: 5/30, LS+LI, Val Loss: 0.00010561639646766707\n",
      "SNR: 5/30, LS+LI, Epoch 11/20, Loss: 0.000107216289642124 \n",
      "SNR: 5/30, LS+LI, Val Loss: 0.00010069943376341446\n",
      "SNR: 5/30, LS+LI, Epoch 12/20, Loss: 0.00010186605782064812 \n",
      "SNR: 5/30, LS+LI, Val Loss: 9.680154410792359e-05\n",
      "SNR: 5/30, LS+LI, Epoch 13/20, Loss: 9.756633706202404e-05 \n",
      "SNR: 5/30, LS+LI, Val Loss: 9.237027764659918e-05\n",
      "SNR: 5/30, LS+LI, Epoch 14/20, Loss: 9.442254171031297e-05 \n",
      "SNR: 5/30, LS+LI, Val Loss: 9.11236162816446e-05\n",
      "SNR: 5/30, LS+LI, Epoch 15/20, Loss: 9.200896234724136e-05 \n",
      "SNR: 5/30, LS+LI, Val Loss: 8.991553022497101e-05\n",
      "SNR: 5/30, LS+LI, Epoch 16/20, Loss: 8.886462704383418e-05 \n",
      "SNR: 5/30, LS+LI, Val Loss: 8.442215766990557e-05\n",
      "SNR: 5/30, LS+LI, Epoch 17/20, Loss: 8.777367213834885e-05 \n",
      "SNR: 5/30, LS+LI, Val Loss: 8.215329398808535e-05\n",
      "SNR: 5/30, LS+LI, Epoch 18/20, Loss: 8.526824816420564e-05 \n",
      "SNR: 5/30, LS+LI, Val Loss: 8.065366303829553e-05\n",
      "SNR: 5/30, LS+LI, Epoch 19/20, Loss: 8.38487788017362e-05 \n",
      "SNR: 5/30, LS+LI, Val Loss: 8.052189241425367e-05\n",
      "SNR: 5/30, LS+LI, Epoch 20/20, Loss: 8.156777576095019e-05 \n",
      "SNR: 5/30, LS+LI, Val Loss: 8.04110025759049e-05\n",
      "LS+LI NMSE: 0.026306739076972008\n",
      "LS+LI+CNN NMSE: 0.002647660905495286\n",
      " Training for LS\n",
      "SNR: 5/30, LS, Epoch 1/20, Loss: 0.12546630681372514 \n",
      "SNR: 5/30, LS, Val Loss: 0.04200562338034312\n",
      "SNR: 5/30, LS, Epoch 2/20, Loss: 0.03331798826814583 \n",
      "SNR: 5/30, LS, Val Loss: 0.02595381159335375\n",
      "SNR: 5/30, LS, Epoch 3/20, Loss: 0.022731631722227478 \n",
      "SNR: 5/30, LS, Val Loss: 0.01685582745509843\n",
      "SNR: 5/30, LS, Epoch 4/20, Loss: 0.008787417802198947 \n",
      "SNR: 5/30, LS, Val Loss: 0.002129355547367595\n",
      "SNR: 5/30, LS, Epoch 5/20, Loss: 0.0012459995332842527 \n",
      "SNR: 5/30, LS, Val Loss: 0.0008069859832176007\n",
      "SNR: 5/30, LS, Epoch 6/20, Loss: 0.0006196098053472873 \n",
      "SNR: 5/30, LS, Val Loss: 0.00048445879777621786\n",
      "SNR: 5/30, LS, Epoch 7/20, Loss: 0.0004259907638499661 \n",
      "SNR: 5/30, LS, Val Loss: 0.00037323228995470953\n",
      "SNR: 5/30, LS, Epoch 8/20, Loss: 0.0003323969207179622 \n",
      "SNR: 5/30, LS, Val Loss: 0.0002946181230072398\n",
      "SNR: 5/30, LS, Epoch 9/20, Loss: 0.000278710169944737 \n",
      "SNR: 5/30, LS, Val Loss: 0.00025448111531053047\n",
      "SNR: 5/30, LS, Epoch 10/20, Loss: 0.0002462585374688739 \n",
      "SNR: 5/30, LS, Val Loss: 0.00022927223290025722\n",
      "SNR: 5/30, LS, Epoch 11/20, Loss: 0.0002261773621321121 \n",
      "SNR: 5/30, LS, Val Loss: 0.00021043395039062793\n",
      "SNR: 5/30, LS, Epoch 12/20, Loss: 0.0002105045956467269 \n",
      "SNR: 5/30, LS, Val Loss: 0.0001974840191299639\n",
      "SNR: 5/30, LS, Epoch 13/20, Loss: 0.00019912423842902396 \n",
      "SNR: 5/30, LS, Val Loss: 0.0001889951612004855\n",
      "SNR: 5/30, LS, Epoch 14/20, Loss: 0.0001900722075306746 \n",
      "SNR: 5/30, LS, Val Loss: 0.00018066271635082862\n",
      "SNR: 5/30, LS, Epoch 15/20, Loss: 0.00017924431759269336 \n",
      "SNR: 5/30, LS, Val Loss: 0.0001682901602180209\n",
      "SNR: 5/30, LS, Epoch 16/20, Loss: 0.00017067885231215156 \n",
      "SNR: 5/30, LS, Val Loss: 0.00016167377968182942\n",
      "SNR: 5/30, LS, Epoch 17/20, Loss: 0.0001640988798814337 \n",
      "SNR: 5/30, LS, Val Loss: 0.0001609856941892455\n",
      "SNR: 5/30, LS, Epoch 18/20, Loss: 0.00015451314564163816 \n",
      "SNR: 5/30, LS, Val Loss: 0.00014483221790821213\n",
      "SNR: 5/30, LS, Epoch 19/20, Loss: 0.00014719291861597816 \n",
      "SNR: 5/30, LS, Val Loss: 0.00013647863973649996\n",
      "SNR: 5/30, LS, Epoch 20/20, Loss: 0.00014017675465144596 \n",
      "SNR: 5/30, LS, Val Loss: 0.00013210328324930742\n",
      "LS+CNN NMSE: 0.00434997770935297\n",
      " SNR: 10/30\n",
      " Training for LS+LI\n",
      "SNR: 10/30, LS+LI, Epoch 1/20, Loss: 0.09159011172481102 \n",
      "SNR: 10/30, LS+LI, Val Loss: 0.01898899464868009\n",
      "SNR: 10/30, LS+LI, Epoch 2/20, Loss: 0.007067869143620465 \n",
      "SNR: 10/30, LS+LI, Val Loss: 0.001967375967069529\n",
      "SNR: 10/30, LS+LI, Epoch 3/20, Loss: 0.0010754903651644836 \n",
      "SNR: 10/30, LS+LI, Val Loss: 0.0006527795970517521\n",
      "SNR: 10/30, LS+LI, Epoch 4/20, Loss: 0.0004562338147632833 \n",
      "SNR: 10/30, LS+LI, Val Loss: 0.00036255698675328557\n",
      "SNR: 10/30, LS+LI, Epoch 5/20, Loss: 0.00027809623940928496 \n",
      "SNR: 10/30, LS+LI, Val Loss: 0.0002449454599021313\n",
      "SNR: 10/30, LS+LI, Epoch 6/20, Loss: 0.00019777988200075924 \n",
      "SNR: 10/30, LS+LI, Val Loss: 0.00018772296001164554\n",
      "SNR: 10/30, LS+LI, Epoch 7/20, Loss: 0.00015585685079965721 \n",
      "SNR: 10/30, LS+LI, Val Loss: 0.0001519776384763342\n",
      "SNR: 10/30, LS+LI, Epoch 8/20, Loss: 0.00013058239447574205 \n",
      "SNR: 10/30, LS+LI, Val Loss: 0.00013101873173582135\n",
      "SNR: 10/30, LS+LI, Epoch 9/20, Loss: 0.0001134843900361753 \n",
      "SNR: 10/30, LS+LI, Val Loss: 0.00011357294503492692\n",
      "SNR: 10/30, LS+LI, Epoch 10/20, Loss: 0.00010086382913004404 \n",
      "SNR: 10/30, LS+LI, Val Loss: 0.00010120702518179314\n",
      "SNR: 10/30, LS+LI, Epoch 11/20, Loss: 9.056133726201975e-05 \n",
      "SNR: 10/30, LS+LI, Val Loss: 9.140373034218403e-05\n",
      "SNR: 10/30, LS+LI, Epoch 12/20, Loss: 8.27719377772191e-05 \n",
      "SNR: 10/30, LS+LI, Val Loss: 8.383548629353754e-05\n",
      "SNR: 10/30, LS+LI, Epoch 13/20, Loss: 7.605784893451411e-05 \n",
      "SNR: 10/30, LS+LI, Val Loss: 7.691330392844975e-05\n",
      "SNR: 10/30, LS+LI, Epoch 14/20, Loss: 7.021575818203693e-05 \n",
      "SNR: 10/30, LS+LI, Val Loss: 7.095899096990858e-05\n",
      "SNR: 10/30, LS+LI, Epoch 15/20, Loss: 6.49197342078545e-05 \n",
      "SNR: 10/30, LS+LI, Val Loss: 6.565050989593146e-05\n",
      "SNR: 10/30, LS+LI, Epoch 16/20, Loss: 6.0178156429786454e-05 \n",
      "SNR: 10/30, LS+LI, Val Loss: 6.108889601819101e-05\n",
      "SNR: 10/30, LS+LI, Epoch 17/20, Loss: 5.5960824815118406e-05 \n",
      "SNR: 10/30, LS+LI, Val Loss: 5.634712988467072e-05\n",
      "SNR: 10/30, LS+LI, Epoch 18/20, Loss: 5.2481846032966165e-05 \n",
      "SNR: 10/30, LS+LI, Val Loss: 5.2650104407803155e-05\n",
      "SNR: 10/30, LS+LI, Epoch 19/20, Loss: 4.914031534900631e-05 \n",
      "SNR: 10/30, LS+LI, Val Loss: 4.9615371456942135e-05\n",
      "SNR: 10/30, LS+LI, Epoch 20/20, Loss: 4.660716581609017e-05 \n",
      "SNR: 10/30, LS+LI, Val Loss: 4.696722786926936e-05\n",
      "LS+LI NMSE: 0.008282133378088474\n",
      "LS+LI+CNN NMSE: 0.0015055701369419694\n",
      " Training for LS\n"
     ]
    },
    {
     "name": "stderr",
     "output_type": "stream",
     "text": [
      "/tmp/ipykernel_551423/2769627040.py:257: RuntimeWarning: More than 20 figures have been opened. Figures created through the pyplot interface (`matplotlib.pyplot.figure`) are retained until explicitly closed and may consume too much memory. (To control this warning, see the rcParam `figure.max_open_warning`). Consider using `matplotlib.pyplot.close()`.\n",
      "  plt.figure(figsize=(10, 5))\n"
     ]
    },
    {
     "name": "stdout",
     "output_type": "stream",
     "text": [
      "SNR: 10/30, LS, Epoch 1/20, Loss: 0.11181402335515117 \n",
      "SNR: 10/30, LS, Val Loss: 0.03859635116532445\n",
      "SNR: 10/30, LS, Epoch 2/20, Loss: 0.030697594618074375 \n",
      "SNR: 10/30, LS, Val Loss: 0.02772912468450765\n",
      "SNR: 10/30, LS, Epoch 3/20, Loss: 0.023996088727570995 \n",
      "SNR: 10/30, LS, Val Loss: 0.017056898407948513\n",
      "SNR: 10/30, LS, Epoch 4/20, Loss: 0.007155362980573963 \n",
      "SNR: 10/30, LS, Val Loss: 0.001985422796375739\n",
      "SNR: 10/30, LS, Epoch 5/20, Loss: 0.0013422728052229094 \n",
      "SNR: 10/30, LS, Val Loss: 0.0010235657246084884\n",
      "SNR: 10/30, LS, Epoch 6/20, Loss: 0.0007763689033465811 \n",
      "SNR: 10/30, LS, Val Loss: 0.000627431142978215\n",
      "SNR: 10/30, LS, Epoch 7/20, Loss: 0.00048546972344537255 \n",
      "SNR: 10/30, LS, Val Loss: 0.0003974343417212367\n",
      "SNR: 10/30, LS, Epoch 8/20, Loss: 0.00032974244462784913 \n",
      "SNR: 10/30, LS, Val Loss: 0.00030346647630115814\n",
      "SNR: 10/30, LS, Epoch 9/20, Loss: 0.00025390505794744645 \n",
      "SNR: 10/30, LS, Val Loss: 0.0002411968810823358\n",
      "SNR: 10/30, LS, Epoch 10/20, Loss: 0.00021519708504213371 \n",
      "SNR: 10/30, LS, Val Loss: 0.00020314935136411805\n",
      "SNR: 10/30, LS, Epoch 11/20, Loss: 0.00019165125569889995 \n",
      "SNR: 10/30, LS, Val Loss: 0.00018170246342682125\n",
      "SNR: 10/30, LS, Epoch 12/20, Loss: 0.00017115835211064555 \n",
      "SNR: 10/30, LS, Val Loss: 0.00017617969509349982\n",
      "SNR: 10/30, LS, Epoch 13/20, Loss: 0.00015753903516278934 \n",
      "SNR: 10/30, LS, Val Loss: 0.00015948968454419324\n",
      "SNR: 10/30, LS, Epoch 14/20, Loss: 0.00014631094507980253 \n",
      "SNR: 10/30, LS, Val Loss: 0.00014827871897675018\n",
      "SNR: 10/30, LS, Epoch 15/20, Loss: 0.0001361393123720473 \n",
      "SNR: 10/30, LS, Val Loss: 0.0001346913104498526\n",
      "SNR: 10/30, LS, Epoch 16/20, Loss: 0.00012548126133059677 \n",
      "SNR: 10/30, LS, Val Loss: 0.00013574070726463106\n",
      "SNR: 10/30, LS, Epoch 17/20, Loss: 0.00011723128708320357 \n",
      "SNR: 10/30, LS, Val Loss: 0.00011190579455918244\n",
      "SNR: 10/30, LS, Epoch 18/20, Loss: 0.00011006026084438003 \n",
      "SNR: 10/30, LS, Val Loss: 0.00010601828216749709\n",
      "SNR: 10/30, LS, Epoch 19/20, Loss: 0.00010184440712817935 \n",
      "SNR: 10/30, LS, Val Loss: 9.976048659154912e-05\n",
      "SNR: 10/30, LS, Epoch 20/20, Loss: 9.77886002957429e-05 \n",
      "SNR: 10/30, LS, Val Loss: 9.235919757581239e-05\n",
      "LS+CNN NMSE: 0.002960499143227935\n",
      " SNR: 15/30\n",
      " Training for LS+LI\n",
      "SNR: 15/30, LS+LI, Epoch 1/20, Loss: 0.0661533881707283 \n",
      "SNR: 15/30, LS+LI, Val Loss: 0.008587180947264036\n",
      "SNR: 15/30, LS+LI, Epoch 2/20, Loss: 0.002890064464916595 \n",
      "SNR: 15/30, LS+LI, Val Loss: 0.000800058204428448\n",
      "SNR: 15/30, LS+LI, Epoch 3/20, Loss: 0.0005671430454361207 \n",
      "SNR: 15/30, LS+LI, Val Loss: 0.00041750770833459683\n",
      "SNR: 15/30, LS+LI, Epoch 4/20, Loss: 0.000330799773389054 \n",
      "SNR: 15/30, LS+LI, Val Loss: 0.00023825547032174654\n",
      "SNR: 15/30, LS+LI, Epoch 5/20, Loss: 0.00017871448416020814 \n",
      "SNR: 15/30, LS+LI, Val Loss: 0.00013174190401817518\n",
      "SNR: 15/30, LS+LI, Epoch 6/20, Loss: 0.0001105742273943863 \n",
      "SNR: 15/30, LS+LI, Val Loss: 9.046495173000342e-05\n",
      "SNR: 15/30, LS+LI, Epoch 7/20, Loss: 7.820740764073701e-05 \n",
      "SNR: 15/30, LS+LI, Val Loss: 6.600599696563829e-05\n",
      "SNR: 15/30, LS+LI, Epoch 8/20, Loss: 5.878704543629463e-05 \n",
      "SNR: 15/30, LS+LI, Val Loss: 5.129322683690892e-05\n",
      "SNR: 15/30, LS+LI, Epoch 9/20, Loss: 4.6415580829200886e-05 \n",
      "SNR: 15/30, LS+LI, Val Loss: 4.137613874869809e-05\n",
      "SNR: 15/30, LS+LI, Epoch 10/20, Loss: 3.854026953836138e-05 \n",
      "SNR: 15/30, LS+LI, Val Loss: 3.5146599354144804e-05\n",
      "SNR: 15/30, LS+LI, Epoch 11/20, Loss: 3.3149725255714314e-05 \n",
      "SNR: 15/30, LS+LI, Val Loss: 3.0222912982935668e-05\n",
      "SNR: 15/30, LS+LI, Epoch 12/20, Loss: 2.9053973037770276e-05 \n",
      "SNR: 15/30, LS+LI, Val Loss: 2.6675994225418737e-05\n",
      "SNR: 15/30, LS+LI, Epoch 13/20, Loss: 2.5823078674263098e-05 \n",
      "SNR: 15/30, LS+LI, Val Loss: 2.398797732894309e-05\n",
      "SNR: 15/30, LS+LI, Epoch 14/20, Loss: 2.320969589154719e-05 \n",
      "SNR: 15/30, LS+LI, Val Loss: 2.1430160662324244e-05\n",
      "SNR: 15/30, LS+LI, Epoch 15/20, Loss: 2.122716975941105e-05 \n",
      "SNR: 15/30, LS+LI, Val Loss: 1.972954070576331e-05\n",
      "SNR: 15/30, LS+LI, Epoch 16/20, Loss: 1.9798929860380578e-05 \n",
      "SNR: 15/30, LS+LI, Val Loss: 1.8418519630358787e-05\n",
      "SNR: 15/30, LS+LI, Epoch 17/20, Loss: 1.8517068149389393e-05 \n",
      "SNR: 15/30, LS+LI, Val Loss: 1.7258111294419603e-05\n",
      "SNR: 15/30, LS+LI, Epoch 18/20, Loss: 1.7559206789523123e-05 \n",
      "SNR: 15/30, LS+LI, Val Loss: 1.6878885314023744e-05\n",
      "SNR: 15/30, LS+LI, Epoch 19/20, Loss: 1.671747066319596e-05 \n",
      "SNR: 15/30, LS+LI, Val Loss: 1.5871262273018754e-05\n",
      "SNR: 15/30, LS+LI, Epoch 20/20, Loss: 1.60486418028788e-05 \n",
      "SNR: 15/30, LS+LI, Val Loss: 1.5167240121627401e-05\n",
      "LS+LI NMSE: 0.0026940410025417805\n",
      "LS+LI+CNN NMSE: 0.0005043489509262145\n",
      " Training for LS\n",
      "SNR: 15/30, LS, Epoch 1/20, Loss: 0.13043170824351877 \n",
      "SNR: 15/30, LS, Val Loss: 0.039700441993772984\n",
      "SNR: 15/30, LS, Epoch 2/20, Loss: 0.03203452554632827 \n",
      "SNR: 15/30, LS, Val Loss: 0.02587964905736347\n",
      "SNR: 15/30, LS, Epoch 3/20, Loss: 0.021200232917793316 \n",
      "SNR: 15/30, LS, Val Loss: 0.011436391854658723\n",
      "SNR: 15/30, LS, Epoch 4/20, Loss: 0.0034624535522981554 \n",
      "SNR: 15/30, LS, Val Loss: 0.0008030888299496534\n",
      "SNR: 15/30, LS, Epoch 5/20, Loss: 0.0006269721356381912 \n",
      "SNR: 15/30, LS, Val Loss: 0.00046640779692097567\n",
      "SNR: 15/30, LS, Epoch 6/20, Loss: 0.0003754839343324276 \n",
      "SNR: 15/30, LS, Val Loss: 0.0002897167754175219\n",
      "SNR: 15/30, LS, Epoch 7/20, Loss: 0.0002561680851406233 \n",
      "SNR: 15/30, LS, Val Loss: 0.00021724590502950983\n",
      "SNR: 15/30, LS, Epoch 8/20, Loss: 0.00020552120943171073 \n",
      "SNR: 15/30, LS, Val Loss: 0.00018454926491055326\n",
      "SNR: 15/30, LS, Epoch 9/20, Loss: 0.00017980117115824908 \n",
      "SNR: 15/30, LS, Val Loss: 0.0001649537789489841\n",
      "SNR: 15/30, LS, Epoch 10/20, Loss: 0.00016337541423450997 \n",
      "SNR: 15/30, LS, Val Loss: 0.00015444970752772255\n",
      "SNR: 15/30, LS, Epoch 11/20, Loss: 0.00015093253750819713 \n",
      "SNR: 15/30, LS, Val Loss: 0.0001446400301574613\n",
      "SNR: 15/30, LS, Epoch 12/20, Loss: 0.00013835585966739703 \n",
      "SNR: 15/30, LS, Val Loss: 0.00012690239085107655\n",
      "SNR: 15/30, LS, Epoch 13/20, Loss: 0.0001282755030194611 \n",
      "SNR: 15/30, LS, Val Loss: 0.0001292736642426462\n",
      "SNR: 15/30, LS, Epoch 14/20, Loss: 0.00011691688096017051 \n",
      "SNR: 15/30, LS, Val Loss: 0.0001088711818132045\n",
      "SNR: 15/30, LS, Epoch 15/20, Loss: 0.00010881685533838596 \n",
      "SNR: 15/30, LS, Val Loss: 0.00011195354788166394\n",
      "SNR: 15/30, LS, Epoch 16/20, Loss: 0.0001006241165831141 \n",
      "SNR: 15/30, LS, Val Loss: 9.098609916691203e-05\n",
      "SNR: 15/30, LS, Epoch 17/20, Loss: 9.298218750394305e-05 \n",
      "SNR: 15/30, LS, Val Loss: 8.524914301233366e-05\n",
      "SNR: 15/30, LS, Epoch 18/20, Loss: 8.734892251613749e-05 \n",
      "SNR: 15/30, LS, Val Loss: 7.999443429677437e-05\n",
      "SNR: 15/30, LS, Epoch 19/20, Loss: 8.075646962091617e-05 \n",
      "SNR: 15/30, LS, Val Loss: 7.498359203358025e-05\n",
      "SNR: 15/30, LS, Epoch 20/20, Loss: 7.637062264963094e-05 \n",
      "SNR: 15/30, LS, Val Loss: 7.919974511120624e-05\n",
      "LS+CNN NMSE: 0.00263423565775156\n",
      " SNR: 20/30\n",
      " Training for LS+LI\n",
      "SNR: 20/30, LS+LI, Epoch 1/20, Loss: 0.09663252000890599 \n",
      "SNR: 20/30, LS+LI, Val Loss: 0.009425956173799932\n",
      "SNR: 20/30, LS+LI, Epoch 2/20, Loss: 0.002392039533720656 \n",
      "SNR: 20/30, LS+LI, Val Loss: 0.0005653279852898171\n",
      "SNR: 20/30, LS+LI, Epoch 3/20, Loss: 0.00041962734761873794 \n",
      "SNR: 20/30, LS+LI, Val Loss: 0.00027728550594474655\n",
      "SNR: 20/30, LS+LI, Epoch 4/20, Loss: 0.00019251763606547737 \n",
      "SNR: 20/30, LS+LI, Val Loss: 0.00012960255996100992\n",
      "SNR: 20/30, LS+LI, Epoch 5/20, Loss: 0.00010509678427882649 \n",
      "SNR: 20/30, LS+LI, Val Loss: 8.51104005050729e-05\n",
      "SNR: 20/30, LS+LI, Epoch 6/20, Loss: 7.356585153349154e-05 \n",
      "SNR: 20/30, LS+LI, Val Loss: 6.141396609867418e-05\n",
      "SNR: 20/30, LS+LI, Epoch 7/20, Loss: 5.3845234169154476e-05 \n",
      "SNR: 20/30, LS+LI, Val Loss: 4.593046484539324e-05\n",
      "SNR: 20/30, LS+LI, Epoch 8/20, Loss: 4.097330496517658e-05 \n",
      "SNR: 20/30, LS+LI, Val Loss: 3.568506190276821e-05\n",
      "SNR: 20/30, LS+LI, Epoch 9/20, Loss: 3.209611793071156e-05 \n",
      "SNR: 20/30, LS+LI, Val Loss: 2.7529470116860466e-05\n",
      "SNR: 20/30, LS+LI, Epoch 10/20, Loss: 2.526932196518162e-05 \n",
      "SNR: 20/30, LS+LI, Val Loss: 2.2361123304411496e-05\n",
      "SNR: 20/30, LS+LI, Epoch 11/20, Loss: 2.087780053038346e-05 \n",
      "SNR: 20/30, LS+LI, Val Loss: 1.868777872005012e-05\n",
      "SNR: 20/30, LS+LI, Epoch 12/20, Loss: 1.7688990737951826e-05 \n",
      "SNR: 20/30, LS+LI, Val Loss: 1.592465366684337e-05\n",
      "SNR: 20/30, LS+LI, Epoch 13/20, Loss: 1.5253938407581565e-05 \n",
      "SNR: 20/30, LS+LI, Val Loss: 1.3820141968305203e-05\n",
      "SNR: 20/30, LS+LI, Epoch 14/20, Loss: 1.3325140931592253e-05 \n",
      "SNR: 20/30, LS+LI, Val Loss: 1.2151922040478288e-05\n",
      "SNR: 20/30, LS+LI, Epoch 15/20, Loss: 1.1856595572698827e-05 \n",
      "SNR: 20/30, LS+LI, Val Loss: 1.090424253410068e-05\n",
      "SNR: 20/30, LS+LI, Epoch 16/20, Loss: 1.0726054705457392e-05 \n",
      "SNR: 20/30, LS+LI, Val Loss: 9.884721900258834e-06\n",
      "SNR: 20/30, LS+LI, Epoch 17/20, Loss: 9.780544756398344e-06 \n",
      "SNR: 20/30, LS+LI, Val Loss: 9.192455896330406e-06\n",
      "SNR: 20/30, LS+LI, Epoch 18/20, Loss: 9.057040514481642e-06 \n",
      "SNR: 20/30, LS+LI, Val Loss: 8.370298492839842e-06\n",
      "SNR: 20/30, LS+LI, Epoch 19/20, Loss: 8.459995234432535e-06 \n",
      "SNR: 20/30, LS+LI, Val Loss: 8.80446701027419e-06\n",
      "SNR: 20/30, LS+LI, Epoch 20/20, Loss: 8.009755701735204e-06 \n",
      "SNR: 20/30, LS+LI, Val Loss: 7.511764332927366e-06\n",
      "LS+LI NMSE: 0.0009016586700454354\n",
      "LS+LI+CNN NMSE: 0.00024007234605960548\n",
      " Training for LS\n",
      "SNR: 20/30, LS, Epoch 1/20, Loss: 0.11334049537556597 \n",
      "SNR: 20/30, LS, Val Loss: 0.04213776811957359\n",
      "SNR: 20/30, LS, Epoch 2/20, Loss: 0.031401349139390605 \n",
      "SNR: 20/30, LS, Val Loss: 0.024477659026160836\n",
      "SNR: 20/30, LS, Epoch 3/20, Loss: 0.017588693922901952 \n",
      "SNR: 20/30, LS, Val Loss: 0.006761524244211614\n",
      "SNR: 20/30, LS, Epoch 4/20, Loss: 0.0019304837531866597 \n",
      "SNR: 20/30, LS, Val Loss: 0.0008325637318193913\n",
      "SNR: 20/30, LS, Epoch 5/20, Loss: 0.000671928380944508 \n",
      "SNR: 20/30, LS, Val Loss: 0.0005375010732677765\n",
      "SNR: 20/30, LS, Epoch 6/20, Loss: 0.0004585106651953394 \n",
      "SNR: 20/30, LS, Val Loss: 0.0003794567055592779\n",
      "SNR: 20/30, LS, Epoch 7/20, Loss: 0.00033393898861549593 \n",
      "SNR: 20/30, LS, Val Loss: 0.0002868466932947437\n",
      "SNR: 20/30, LS, Epoch 8/20, Loss: 0.00025884256888950924 \n",
      "SNR: 20/30, LS, Val Loss: 0.0002298205114736144\n",
      "SNR: 20/30, LS, Epoch 9/20, Loss: 0.00021276858254591703 \n",
      "SNR: 20/30, LS, Val Loss: 0.00019186203341329625\n",
      "SNR: 20/30, LS, Epoch 10/20, Loss: 0.0001821498955887544 \n",
      "SNR: 20/30, LS, Val Loss: 0.00016925785530474968\n",
      "SNR: 20/30, LS, Epoch 11/20, Loss: 0.00016262997948192291 \n",
      "SNR: 20/30, LS, Val Loss: 0.00015612227070960216\n",
      "SNR: 20/30, LS, Epoch 12/20, Loss: 0.00014636514116669912 \n",
      "SNR: 20/30, LS, Val Loss: 0.00013851841019156078\n",
      "SNR: 20/30, LS, Epoch 13/20, Loss: 0.00013278868659699134 \n",
      "SNR: 20/30, LS, Val Loss: 0.00012581254850374535\n",
      "SNR: 20/30, LS, Epoch 14/20, Loss: 0.0001231138875761581 \n",
      "SNR: 20/30, LS, Val Loss: 0.0001317460182690411\n",
      "SNR: 20/30, LS, Epoch 15/20, Loss: 0.000115199463276566 \n",
      "SNR: 20/30, LS, Val Loss: 0.00011752821228583343\n",
      "SNR: 20/30, LS, Epoch 16/20, Loss: 0.00010538770723064996 \n",
      "SNR: 20/30, LS, Val Loss: 9.855209858263454e-05\n",
      "SNR: 20/30, LS, Epoch 17/20, Loss: 9.742319450044017e-05 \n",
      "SNR: 20/30, LS, Val Loss: 9.092865457205335e-05\n",
      "SNR: 20/30, LS, Epoch 18/20, Loss: 9.167462800664592e-05 \n",
      "SNR: 20/30, LS, Val Loss: 8.627659523578284e-05\n",
      "SNR: 20/30, LS, Epoch 19/20, Loss: 8.584024431227158e-05 \n",
      "SNR: 20/30, LS, Val Loss: 8.595899392579061e-05\n",
      "SNR: 20/30, LS, Epoch 20/20, Loss: 8.132813420863638e-05 \n",
      "SNR: 20/30, LS, Val Loss: 0.00010172461285643901\n",
      "LS+CNN NMSE: 0.0032505476847290993\n",
      " SNR: 25/30\n",
      " Training for LS+LI\n",
      "SNR: 25/30, LS+LI, Epoch 1/20, Loss: 0.09319336445411981 \n",
      "SNR: 25/30, LS+LI, Val Loss: 0.013179542419190208\n",
      "SNR: 25/30, LS+LI, Epoch 2/20, Loss: 0.003970679094540047 \n",
      "SNR: 25/30, LS+LI, Val Loss: 0.0007405756526471426\n",
      "SNR: 25/30, LS+LI, Epoch 3/20, Loss: 0.00048784419215897485 \n",
      "SNR: 25/30, LS+LI, Val Loss: 0.0003525927410616229\n",
      "SNR: 25/30, LS+LI, Epoch 4/20, Loss: 0.0002738180991589544 \n",
      "SNR: 25/30, LS+LI, Val Loss: 0.00020042510125980092\n",
      "SNR: 25/30, LS+LI, Epoch 5/20, Loss: 0.00015477242154567178 \n",
      "SNR: 25/30, LS+LI, Val Loss: 0.00012275924412582148\n",
      "SNR: 25/30, LS+LI, Epoch 6/20, Loss: 0.00010539518646483246 \n",
      "SNR: 25/30, LS+LI, Val Loss: 9.187166870106012e-05\n",
      "SNR: 25/30, LS+LI, Epoch 7/20, Loss: 8.184563049857532e-05 \n",
      "SNR: 25/30, LS+LI, Val Loss: 7.27871926452887e-05\n",
      "SNR: 25/30, LS+LI, Epoch 8/20, Loss: 6.542627288761669e-05 \n",
      "SNR: 25/30, LS+LI, Val Loss: 5.853426379568797e-05\n",
      "SNR: 25/30, LS+LI, Epoch 9/20, Loss: 5.235845270759131e-05 \n",
      "SNR: 25/30, LS+LI, Val Loss: 4.638425086037993e-05\n",
      "SNR: 25/30, LS+LI, Epoch 10/20, Loss: 4.11850978167368e-05 \n",
      "SNR: 25/30, LS+LI, Val Loss: 3.61780374381245e-05\n",
      "SNR: 25/30, LS+LI, Epoch 11/20, Loss: 3.2349290332865284e-05 \n",
      "SNR: 25/30, LS+LI, Val Loss: 2.879892766335009e-05\n",
      "SNR: 25/30, LS+LI, Epoch 12/20, Loss: 2.595567531159867e-05 \n",
      "SNR: 25/30, LS+LI, Val Loss: 2.3431921211643687e-05\n",
      "SNR: 25/30, LS+LI, Epoch 13/20, Loss: 2.1262076890959387e-05 \n",
      "SNR: 25/30, LS+LI, Val Loss: 1.887162693492428e-05\n",
      "SNR: 25/30, LS+LI, Epoch 14/20, Loss: 1.685055425390025e-05 \n",
      "SNR: 25/30, LS+LI, Val Loss: 1.5097380014594819e-05\n",
      "SNR: 25/30, LS+LI, Epoch 15/20, Loss: 1.3739113996106795e-05 \n",
      "SNR: 25/30, LS+LI, Val Loss: 1.2484244734878303e-05\n",
      "SNR: 25/30, LS+LI, Epoch 16/20, Loss: 1.1467373114290168e-05 \n",
      "SNR: 25/30, LS+LI, Val Loss: 1.0717722564853224e-05\n",
      "SNR: 25/30, LS+LI, Epoch 17/20, Loss: 9.79152330521426e-06 \n",
      "SNR: 25/30, LS+LI, Val Loss: 9.082197398887123e-06\n",
      "SNR: 25/30, LS+LI, Epoch 18/20, Loss: 8.514430399120803e-06 \n",
      "SNR: 25/30, LS+LI, Val Loss: 7.972119590249349e-06\n",
      "SNR: 25/30, LS+LI, Epoch 19/20, Loss: 7.530031363857422e-06 \n",
      "SNR: 25/30, LS+LI, Val Loss: 7.037081388716615e-06\n",
      "SNR: 25/30, LS+LI, Epoch 20/20, Loss: 6.734538876098848e-06 \n",
      "SNR: 25/30, LS+LI, Val Loss: 6.3735647017892916e-06\n",
      "LS+LI NMSE: 0.0003457673010416329\n",
      "LS+LI+CNN NMSE: 0.00020430676522664726\n",
      " Training for LS\n",
      "SNR: 25/30, LS, Epoch 1/20, Loss: 0.1010482567777433 \n",
      "SNR: 25/30, LS, Val Loss: 0.037103740653644\n",
      "SNR: 25/30, LS, Epoch 2/20, Loss: 0.029655432614433295 \n",
      "SNR: 25/30, LS, Val Loss: 0.025649194528038304\n",
      "SNR: 25/30, LS, Epoch 3/20, Loss: 0.018799465668323165 \n",
      "SNR: 25/30, LS, Val Loss: 0.007405493000987917\n",
      "SNR: 25/30, LS, Epoch 4/20, Loss: 0.002226560062781843 \n",
      "SNR: 25/30, LS, Val Loss: 0.0010093435921589844\n",
      "SNR: 25/30, LS, Epoch 5/20, Loss: 0.0007455557717890986 \n",
      "SNR: 25/30, LS, Val Loss: 0.0005566217296291143\n",
      "SNR: 25/30, LS, Epoch 6/20, Loss: 0.0004410320550167592 \n",
      "SNR: 25/30, LS, Val Loss: 0.0003384817088469087\n",
      "SNR: 25/30, LS, Epoch 7/20, Loss: 0.00029067705701783043 \n",
      "SNR: 25/30, LS, Val Loss: 0.00027101985627571895\n",
      "SNR: 25/30, LS, Epoch 8/20, Loss: 0.00022836814367668796 \n",
      "SNR: 25/30, LS, Val Loss: 0.00020403843397313418\n",
      "SNR: 25/30, LS, Epoch 9/20, Loss: 0.000196238604661234 \n",
      "SNR: 25/30, LS, Val Loss: 0.00020730995735599814\n",
      "SNR: 25/30, LS, Epoch 10/20, Loss: 0.00017527191844822997 \n",
      "SNR: 25/30, LS, Val Loss: 0.0001636243068787735\n",
      "SNR: 25/30, LS, Epoch 11/20, Loss: 0.00015770079976346545 \n",
      "SNR: 25/30, LS, Val Loss: 0.00015085155852527046\n",
      "SNR: 25/30, LS, Epoch 12/20, Loss: 0.00014474160026552589 \n",
      "SNR: 25/30, LS, Val Loss: 0.00014078303896288466\n",
      "SNR: 25/30, LS, Epoch 13/20, Loss: 0.00013417549117809475 \n",
      "SNR: 25/30, LS, Val Loss: 0.00012315109597693663\n",
      "SNR: 25/30, LS, Epoch 14/20, Loss: 0.00012209712995082546 \n",
      "SNR: 25/30, LS, Val Loss: 0.00012042416043793007\n",
      "SNR: 25/30, LS, Epoch 15/20, Loss: 0.00011427273654977163 \n",
      "SNR: 25/30, LS, Val Loss: 0.00010907877397888417\n",
      "SNR: 25/30, LS, Epoch 16/20, Loss: 0.00010520309945487759 \n",
      "SNR: 25/30, LS, Val Loss: 0.0001005608416259444\n",
      "SNR: 25/30, LS, Epoch 17/20, Loss: 9.87444216499882e-05 \n",
      "SNR: 25/30, LS, Val Loss: 9.009817495098105e-05\n",
      "SNR: 25/30, LS, Epoch 18/20, Loss: 9.090032214618698e-05 \n",
      "SNR: 25/30, LS, Val Loss: 9.220729286122757e-05\n",
      "SNR: 25/30, LS, Epoch 19/20, Loss: 8.516257022876905e-05 \n",
      "SNR: 25/30, LS, Val Loss: 8.259933899050036e-05\n",
      "SNR: 25/30, LS, Epoch 20/20, Loss: 7.79041233952307e-05 \n",
      "SNR: 25/30, LS, Val Loss: 7.177253852811798e-05\n",
      "LS+CNN NMSE: 0.0023007960990071297\n",
      " SNR: 30/30\n",
      " Training for LS+LI\n",
      "SNR: 30/30, LS+LI, Epoch 1/20, Loss: 0.12358691929701236 \n",
      "SNR: 30/30, LS+LI, Val Loss: 0.016052645243083436\n",
      "SNR: 30/30, LS+LI, Epoch 2/20, Loss: 0.004187700896533114 \n",
      "SNR: 30/30, LS+LI, Val Loss: 0.0006745925784343854\n",
      "SNR: 30/30, LS+LI, Epoch 3/20, Loss: 0.0005114261871538042 \n",
      "SNR: 30/30, LS+LI, Val Loss: 0.0003787069532942648\n",
      "SNR: 30/30, LS+LI, Epoch 4/20, Loss: 0.0002575871493006909 \n",
      "SNR: 30/30, LS+LI, Val Loss: 0.00015690736290707719\n",
      "SNR: 30/30, LS+LI, Epoch 5/20, Loss: 0.00011622027634777876 \n",
      "SNR: 30/30, LS+LI, Val Loss: 8.877194431988755e-05\n",
      "SNR: 30/30, LS+LI, Epoch 6/20, Loss: 7.45273559689372e-05 \n",
      "SNR: 30/30, LS+LI, Val Loss: 6.267962316997e-05\n",
      "SNR: 30/30, LS+LI, Epoch 7/20, Loss: 5.427628635552177e-05 \n",
      "SNR: 30/30, LS+LI, Val Loss: 4.7089789556290874e-05\n",
      "SNR: 30/30, LS+LI, Epoch 8/20, Loss: 4.10391640249181e-05 \n",
      "SNR: 30/30, LS+LI, Val Loss: 3.5333824598637875e-05\n",
      "SNR: 30/30, LS+LI, Epoch 9/20, Loss: 3.0448860712513663e-05 \n",
      "SNR: 30/30, LS+LI, Val Loss: 2.660283659376243e-05\n",
      "SNR: 30/30, LS+LI, Epoch 10/20, Loss: 2.330308506325219e-05 \n",
      "SNR: 30/30, LS+LI, Val Loss: 2.0803540564884315e-05\n",
      "SNR: 30/30, LS+LI, Epoch 11/20, Loss: 1.8106701654597592e-05 \n",
      "SNR: 30/30, LS+LI, Val Loss: 1.5986015455382585e-05\n",
      "SNR: 30/30, LS+LI, Epoch 12/20, Loss: 1.3875132467681865e-05 \n",
      "SNR: 30/30, LS+LI, Val Loss: 1.2379531464527341e-05\n",
      "SNR: 30/30, LS+LI, Epoch 13/20, Loss: 1.0746028920038952e-05 \n",
      "SNR: 30/30, LS+LI, Val Loss: 9.756885560818773e-06\n",
      "SNR: 30/30, LS+LI, Epoch 14/20, Loss: 8.480836769275911e-06 \n",
      "SNR: 30/30, LS+LI, Val Loss: 7.743437189825878e-06\n",
      "SNR: 30/30, LS+LI, Epoch 15/20, Loss: 6.888052894282737e-06 \n",
      "SNR: 30/30, LS+LI, Val Loss: 6.367087735270616e-06\n",
      "SNR: 30/30, LS+LI, Epoch 16/20, Loss: 5.691746652007735e-06 \n",
      "SNR: 30/30, LS+LI, Val Loss: 5.367917443284871e-06\n",
      "SNR: 30/30, LS+LI, Epoch 17/20, Loss: 4.892626433016036e-06 \n",
      "SNR: 30/30, LS+LI, Val Loss: 4.616100341081619e-06\n",
      "SNR: 30/30, LS+LI, Epoch 18/20, Loss: 4.194977601391746e-06 \n",
      "SNR: 30/30, LS+LI, Val Loss: 4.042554489084675e-06\n",
      "SNR: 30/30, LS+LI, Epoch 19/20, Loss: 3.7174177292075515e-06 \n",
      "SNR: 30/30, LS+LI, Val Loss: 3.588059144021827e-06\n",
      "SNR: 30/30, LS+LI, Epoch 20/20, Loss: 3.3437376122501427e-06 \n",
      "SNR: 30/30, LS+LI, Val Loss: 3.2317565986280292e-06\n",
      "LS+LI NMSE: 0.00016422026965301484\n",
      "LS+LI+CNN NMSE: 9.73108981270343e-05\n",
      " Training for LS\n",
      "SNR: 30/30, LS, Epoch 1/20, Loss: 0.10008342328047988 \n",
      "SNR: 30/30, LS, Val Loss: 0.0386395623597006\n",
      "SNR: 30/30, LS, Epoch 2/20, Loss: 0.028418586451080766 \n",
      "SNR: 30/30, LS, Val Loss: 0.024406845370928448\n",
      "SNR: 30/30, LS, Epoch 3/20, Loss: 0.013352689191486945 \n",
      "SNR: 30/30, LS, Val Loss: 0.002739531841749946\n",
      "SNR: 30/30, LS, Epoch 4/20, Loss: 0.0010326783444229882 \n",
      "SNR: 30/30, LS, Val Loss: 0.0006433708670859536\n",
      "SNR: 30/30, LS, Epoch 5/20, Loss: 0.0004531851543763671 \n",
      "SNR: 30/30, LS, Val Loss: 0.0003441566271552195\n",
      "SNR: 30/30, LS, Epoch 6/20, Loss: 0.00027478196665974296 \n",
      "SNR: 30/30, LS, Val Loss: 0.00024097566529235337\n",
      "SNR: 30/30, LS, Epoch 7/20, Loss: 0.00021281912466130764 \n",
      "SNR: 30/30, LS, Val Loss: 0.0002022302584615924\n",
      "SNR: 30/30, LS, Epoch 8/20, Loss: 0.00018122175833473148 \n",
      "SNR: 30/30, LS, Val Loss: 0.00017402781910883883\n",
      "SNR: 30/30, LS, Epoch 9/20, Loss: 0.00016110465349082024 \n",
      "SNR: 30/30, LS, Val Loss: 0.00015842994162085233\n",
      "SNR: 30/30, LS, Epoch 10/20, Loss: 0.00014574782630240792 \n",
      "SNR: 30/30, LS, Val Loss: 0.00014258752192593724\n",
      "SNR: 30/30, LS, Epoch 11/20, Loss: 0.0001339584353868619 \n",
      "SNR: 30/30, LS, Val Loss: 0.000133903505836012\n",
      "SNR: 30/30, LS, Epoch 12/20, Loss: 0.00012525042750507288 \n",
      "SNR: 30/30, LS, Val Loss: 0.00012445277449539086\n",
      "SNR: 30/30, LS, Epoch 13/20, Loss: 0.00011654891975490276 \n",
      "SNR: 30/30, LS, Val Loss: 0.0001135187130785198\n",
      "SNR: 30/30, LS, Epoch 14/20, Loss: 0.000107150719504536 \n",
      "SNR: 30/30, LS, Val Loss: 0.0001045582609246291\n",
      "SNR: 30/30, LS, Epoch 15/20, Loss: 9.800013662477273e-05 \n",
      "SNR: 30/30, LS, Val Loss: 9.45820938795805e-05\n",
      "SNR: 30/30, LS, Epoch 16/20, Loss: 8.949185374347346e-05 \n",
      "SNR: 30/30, LS, Val Loss: 9.282629162044032e-05\n",
      "SNR: 30/30, LS, Epoch 17/20, Loss: 8.155566195788503e-05 \n",
      "SNR: 30/30, LS, Val Loss: 7.884279466452426e-05\n",
      "SNR: 30/30, LS, Epoch 18/20, Loss: 7.20758624011789e-05 \n",
      "SNR: 30/30, LS, Val Loss: 6.995177197192486e-05\n",
      "SNR: 30/30, LS, Epoch 19/20, Loss: 6.794712371089136e-05 \n",
      "SNR: 30/30, LS, Val Loss: 6.625118506538759e-05\n",
      "SNR: 30/30, LS, Epoch 20/20, Loss: 6.198547935758205e-05 \n",
      "SNR: 30/30, LS, Val Loss: 6.074556858948199e-05\n",
      "LS+CNN NMSE: 0.001828878652304411\n"
     ]
    },
    {
     "data": {
      "text/plain": [
       "<Figure size 1000x500 with 0 Axes>"
      ]
     },
     "metadata": {},
     "output_type": "display_data"
    },
    {
     "data": {
      "text/plain": [
       "<Figure size 1000x500 with 0 Axes>"
      ]
     },
     "metadata": {},
     "output_type": "display_data"
    },
    {
     "data": {
      "text/plain": [
       "<Figure size 1000x500 with 0 Axes>"
      ]
     },
     "metadata": {},
     "output_type": "display_data"
    },
    {
     "data": {
      "text/plain": [
       "<Figure size 1000x500 with 0 Axes>"
      ]
     },
     "metadata": {},
     "output_type": "display_data"
    },
    {
     "data": {
      "text/plain": [
       "<Figure size 1000x500 with 0 Axes>"
      ]
     },
     "metadata": {},
     "output_type": "display_data"
    },
    {
     "data": {
      "text/plain": [
       "<Figure size 1000x500 with 0 Axes>"
      ]
     },
     "metadata": {},
     "output_type": "display_data"
    },
    {
     "data": {
      "text/plain": [
       "<Figure size 1000x500 with 0 Axes>"
      ]
     },
     "metadata": {},
     "output_type": "display_data"
    },
    {
     "data": {
      "text/plain": [
       "<Figure size 1000x500 with 0 Axes>"
      ]
     },
     "metadata": {},
     "output_type": "display_data"
    },
    {
     "data": {
      "text/plain": [
       "<Figure size 1000x500 with 0 Axes>"
      ]
     },
     "metadata": {},
     "output_type": "display_data"
    },
    {
     "data": {
      "text/plain": [
       "<Figure size 1000x500 with 0 Axes>"
      ]
     },
     "metadata": {},
     "output_type": "display_data"
    },
    {
     "data": {
      "text/plain": [
       "<Figure size 1000x500 with 0 Axes>"
      ]
     },
     "metadata": {},
     "output_type": "display_data"
    },
    {
     "data": {
      "text/plain": [
       "<Figure size 1000x500 with 0 Axes>"
      ]
     },
     "metadata": {},
     "output_type": "display_data"
    },
    {
     "data": {
      "text/plain": [
       "<Figure size 1000x500 with 0 Axes>"
      ]
     },
     "metadata": {},
     "output_type": "display_data"
    },
    {
     "data": {
      "text/plain": [
       "<Figure size 1000x500 with 0 Axes>"
      ]
     },
     "metadata": {},
     "output_type": "display_data"
    },
    {
     "data": {
      "text/plain": [
       "<Figure size 1000x500 with 0 Axes>"
      ]
     },
     "metadata": {},
     "output_type": "display_data"
    },
    {
     "data": {
      "text/plain": [
       "<Figure size 1000x500 with 0 Axes>"
      ]
     },
     "metadata": {},
     "output_type": "display_data"
    },
    {
     "data": {
      "text/plain": [
       "<Figure size 1000x500 with 0 Axes>"
      ]
     },
     "metadata": {},
     "output_type": "display_data"
    },
    {
     "data": {
      "text/plain": [
       "<Figure size 1000x500 with 0 Axes>"
      ]
     },
     "metadata": {},
     "output_type": "display_data"
    },
    {
     "data": {
      "text/plain": [
       "<Figure size 1000x500 with 0 Axes>"
      ]
     },
     "metadata": {},
     "output_type": "display_data"
    },
    {
     "data": {
      "text/plain": [
       "<Figure size 1000x500 with 0 Axes>"
      ]
     },
     "metadata": {},
     "output_type": "display_data"
    },
    {
     "data": {
      "text/plain": [
       "<Figure size 1000x500 with 0 Axes>"
      ]
     },
     "metadata": {},
     "output_type": "display_data"
    },
    {
     "data": {
      "text/plain": [
       "<Figure size 1000x500 with 0 Axes>"
      ]
     },
     "metadata": {},
     "output_type": "display_data"
    },
    {
     "data": {
      "text/plain": [
       "<Figure size 1000x500 with 0 Axes>"
      ]
     },
     "metadata": {},
     "output_type": "display_data"
    },
    {
     "data": {
      "text/plain": [
       "<Figure size 1000x500 with 0 Axes>"
      ]
     },
     "metadata": {},
     "output_type": "display_data"
    },
    {
     "data": {
      "text/plain": [
       "<Figure size 1000x500 with 0 Axes>"
      ]
     },
     "metadata": {},
     "output_type": "display_data"
    },
    {
     "data": {
      "text/plain": [
       "<Figure size 1000x500 with 0 Axes>"
      ]
     },
     "metadata": {},
     "output_type": "display_data"
    },
    {
     "data": {
      "text/plain": [
       "<Figure size 1000x500 with 0 Axes>"
      ]
     },
     "metadata": {},
     "output_type": "display_data"
    },
    {
     "data": {
      "text/plain": [
       "<Figure size 1000x500 with 0 Axes>"
      ]
     },
     "metadata": {},
     "output_type": "display_data"
    },
    {
     "data": {
      "text/plain": [
       "<Figure size 1000x500 with 0 Axes>"
      ]
     },
     "metadata": {},
     "output_type": "display_data"
    },
    {
     "data": {
      "text/plain": [
       "<Figure size 1000x500 with 0 Axes>"
      ]
     },
     "metadata": {},
     "output_type": "display_data"
    },
    {
     "data": {
      "text/plain": [
       "<Figure size 1000x500 with 0 Axes>"
      ]
     },
     "metadata": {},
     "output_type": "display_data"
    },
    {
     "data": {
      "text/plain": [
       "<Figure size 1000x500 with 0 Axes>"
      ]
     },
     "metadata": {},
     "output_type": "display_data"
    },
    {
     "data": {
      "text/plain": [
       "<Figure size 1000x500 with 0 Axes>"
      ]
     },
     "metadata": {},
     "output_type": "display_data"
    },
    {
     "data": {
      "text/plain": [
       "<Figure size 1000x500 with 0 Axes>"
      ]
     },
     "metadata": {},
     "output_type": "display_data"
    },
    {
     "data": {
      "text/plain": [
       "<Figure size 1000x500 with 0 Axes>"
      ]
     },
     "metadata": {},
     "output_type": "display_data"
    },
    {
     "data": {
      "text/plain": [
       "<Figure size 1000x500 with 0 Axes>"
      ]
     },
     "metadata": {},
     "output_type": "display_data"
    },
    {
     "data": {
      "text/plain": [
       "<Figure size 1000x500 with 0 Axes>"
      ]
     },
     "metadata": {},
     "output_type": "display_data"
    },
    {
     "data": {
      "text/plain": [
       "<Figure size 1000x500 with 0 Axes>"
      ]
     },
     "metadata": {},
     "output_type": "display_data"
    },
    {
     "data": {
      "text/plain": [
       "<Figure size 1000x500 with 0 Axes>"
      ]
     },
     "metadata": {},
     "output_type": "display_data"
    },
    {
     "data": {
      "text/plain": [
       "<Figure size 1000x500 with 0 Axes>"
      ]
     },
     "metadata": {},
     "output_type": "display_data"
    },
    {
     "data": {
      "text/plain": [
       "<Figure size 1000x500 with 0 Axes>"
      ]
     },
     "metadata": {},
     "output_type": "display_data"
    },
    {
     "data": {
      "text/plain": [
       "<Figure size 1000x500 with 0 Axes>"
      ]
     },
     "metadata": {},
     "output_type": "display_data"
    },
    {
     "data": {
      "text/plain": [
       "<Figure size 1000x500 with 0 Axes>"
      ]
     },
     "metadata": {},
     "output_type": "display_data"
    },
    {
     "data": {
      "text/plain": [
       "<Figure size 1000x500 with 0 Axes>"
      ]
     },
     "metadata": {},
     "output_type": "display_data"
    },
    {
     "data": {
      "text/plain": [
       "<Figure size 1000x500 with 0 Axes>"
      ]
     },
     "metadata": {},
     "output_type": "display_data"
    },
    {
     "data": {
      "text/plain": [
       "<Figure size 1000x500 with 0 Axes>"
      ]
     },
     "metadata": {},
     "output_type": "display_data"
    },
    {
     "data": {
      "text/plain": [
       "<Figure size 1000x500 with 0 Axes>"
      ]
     },
     "metadata": {},
     "output_type": "display_data"
    },
    {
     "data": {
      "text/plain": [
       "<Figure size 1000x500 with 0 Axes>"
      ]
     },
     "metadata": {},
     "output_type": "display_data"
    },
    {
     "data": {
      "text/plain": [
       "<Figure size 1000x500 with 0 Axes>"
      ]
     },
     "metadata": {},
     "output_type": "display_data"
    },
    {
     "data": {
      "text/plain": [
       "<Figure size 1000x500 with 0 Axes>"
      ]
     },
     "metadata": {},
     "output_type": "display_data"
    },
    {
     "data": {
      "text/plain": [
       "<Figure size 1000x500 with 0 Axes>"
      ]
     },
     "metadata": {},
     "output_type": "display_data"
    },
    {
     "data": {
      "text/plain": [
       "<Figure size 1000x500 with 0 Axes>"
      ]
     },
     "metadata": {},
     "output_type": "display_data"
    },
    {
     "data": {
      "text/plain": [
       "<Figure size 1000x500 with 0 Axes>"
      ]
     },
     "metadata": {},
     "output_type": "display_data"
    },
    {
     "data": {
      "text/plain": [
       "<Figure size 1000x500 with 0 Axes>"
      ]
     },
     "metadata": {},
     "output_type": "display_data"
    },
    {
     "data": {
      "text/plain": [
       "<Figure size 1000x500 with 0 Axes>"
      ]
     },
     "metadata": {},
     "output_type": "display_data"
    },
    {
     "data": {
      "text/plain": [
       "<Figure size 1000x500 with 0 Axes>"
      ]
     },
     "metadata": {},
     "output_type": "display_data"
    }
   ],
   "source": [
    "\n",
    "# rows from DeepMIMO dataset settings\n",
    "# change rows according to the .mat dataset file \n",
    "rows = [['1500', '1509'], ['3916', '3920']] \n",
    "rowss = \"1500_1509_3916_3920\"\n",
    "SNR = np.arange(0, 31, 5) # 0:5:30 dB\n",
    "outer_file_path = os.path.abspath(os.path.join(config.FILE_PATH, \n",
    "                                                '..', 'DeepMIMOv2', 'DeepMIMO_Data', 'Static_BS16', 'freq_symb_1ant_612sub'))\n",
    "for snr in SNR:\n",
    "    print(f\" SNR: {snr}/{SNR[-1]}\")\n",
    "\n",
    "    H_true = np.empty((0, 2, 612, 14)) # true channel\n",
    "\n",
    "    H_equal = np.empty((0, 2, 612, 14)) # noisy channel # LS channel\n",
    "    H_linear = np.empty((0, 2, 612, 14)) # noisy channel # LS+Linear Interpolated channel\n",
    "    H_practical = np.empty((0, 2, 612, 14)) # noisy channel # Practical Estimated channel\n",
    "\n",
    "    # read data from ifferent .mat file, then concatenate them\n",
    "    for i in range(len(rows)):\n",
    "        file_path_partial = 'Gan_' + str(snr) +'_dBOutdoor1_60_1ant_612subcs_Row_' + rows[i][0] +'_' + rows[i][1] + '.mat'\n",
    "\n",
    "        file_path = os.path.join(outer_file_path, file_path_partial)\n",
    "        file_path = os.path.normpath(file_path)\n",
    "        file = h5py.File(file_path, 'r')\n",
    "        \n",
    "        H_true = np.concatenate((H_true, np.array(file['H_data'])), axis = 0) # N_samples x channel(2) x height(614) x width(14)\n",
    "        H_equal = np.concatenate((H_equal, np.array(file['H_equalized_data'])), axis = 0)\n",
    "        H_linear = np.concatenate((H_linear, np.array(file['H_linear_data'])), axis=0)\n",
    "        H_practical = np.concatenate((H_practical, np.array(file['H_practical_data'])), axis=0)\n",
    "\n",
    "    shuffle_order = np.random.permutation(H_true.shape[0]);\n",
    "    H_true = torch.tensor(H_true[shuffle_order])\n",
    "    H_equal = torch.tensor(H_equal[shuffle_order])\n",
    "    H_linear = torch.tensor(H_linear[shuffle_order])\n",
    "    H_practical = torch.tensor(H_practical[shuffle_order])\n",
    "\n",
    "    train_size = np.floor(H_practical.shape[0]*0.9) //BATCH_SIZE *BATCH_SIZE\n",
    "    # print(train_size)\n",
    "    # print(train_size/64)\n",
    "    # print(train_size/input_data.size(0))\n",
    "    train_size = int(train_size)\n",
    "\n",
    "    # -----------------------------------------------------\n",
    "    # 1. When input is H_linear (after LS+LI)\n",
    "    print(f\" Training for LS+LI\")\n",
    "    # [samples, 2, 612, 14]\n",
    "    # 1.1 Split into training and validation sets for H_NN training\n",
    "    trainData   = H_linear[0:train_size,:,:,:].to(device, dtype=torch.float)\n",
    "    trainLabels = H_true[0:train_size,:,:,:].to(device, dtype=torch.float)\n",
    "\n",
    "    valData   = H_linear[train_size:,:,:,:].to(device, dtype=torch.float)\n",
    "    valLabels = H_true[train_size:,:,:,:].to(device, dtype=torch.float)\n",
    "\n",
    "    # Split H_equal, H_linear, H_practical for validation later\n",
    "    H_equal_val = H_equal[train_size:,:,:,:].to(device, dtype=torch.float)\n",
    "    H_linear_val = H_linear[train_size:,:,:,:].to(device, dtype=torch.float)\n",
    "    H_practical_val = H_practical[train_size:,:,:,:].to(device, dtype=torch.float)\n",
    "\n",
    "    # 1.2 Normalization\n",
    "    trainData_min = trainData.min()\n",
    "    trainData_max = trainData.max()\n",
    "    trainLabels_min = trainLabels.min()\n",
    "    trainLabels_max = trainLabels.max()\n",
    "\n",
    "    trainData_normd   = (trainData - trainData_min)/ (trainData_max - trainData_min)\n",
    "    trainLabels_normd = (trainLabels - trainLabels_min)/ (trainLabels_max - trainLabels_min)\n",
    "    valData_normd     = (valData - trainData_min)/ (trainData_max - trainData_min)\n",
    "    valLabels_normd   = (valLabels - trainLabels_min)/ (trainLabels_max - trainLabels_min)\n",
    "    # for evaluation, output of model(valData) will be de-normalized and compared with valLabels\n",
    "\n",
    "    # Split real and imaginary grids into 2 image sets, then concatenate\n",
    "    trainData_normd   = torch.cat((trainData_normd[:,0,:,:], trainData_normd[:,1,:,:]), dim=0).unsqueeze(1)  # 612 x 14 x (Nsamples*2)\n",
    "    trainLabels_normd = torch.cat((trainLabels_normd[:,0,:,:], trainLabels_normd[:,1,:,:]), dim=0).unsqueeze(1)  # 612 x 14 x (Nsamples*2)\n",
    "\n",
    "    # 1.3 Create a DataLoader for dataset\n",
    "    dataset = TensorDataset(trainData_normd, trainLabels_normd)  # [4224, 1, 612, 14]\n",
    "    train_loader = DataLoader(dataset, batch_size=BATCH_SIZE, shuffle=True)\n",
    "\n",
    "    val_dataset = TensorDataset(valData_normd, valLabels_normd)  # [241, 2, 612, 14]\n",
    "    val_loader = DataLoader(val_dataset, batch_size=BATCH_SIZE, shuffle=False)\n",
    "\n",
    "    # 1.4 model\n",
    "    model = utils.CNN_Est().to(device)\n",
    "\n",
    "    learning_rate = 0.00001\n",
    "    optimizer = torch.optim.Adam(model.parameters(), lr=learning_rate) \n",
    "    criterion = nn.MSELoss()\n",
    "\n",
    "    # 1.5 Training loop\n",
    "    train_loss =[]\n",
    "    val_loss = []\n",
    "    H_NN_val = torch.empty_like(valLabels) # [nVal, 2, 612, 14]\n",
    "    num_epochs = NUM_EPOCHS\n",
    "    for epoch in range(num_epochs):\n",
    "        model.train()\n",
    "        running_loss = 0.0\n",
    "        if (epoch == num_epochs-1):\n",
    "            i = 0\n",
    "        for inputs, targets in train_loader:\n",
    "            optimizer.zero_grad()\n",
    "            outputs = model(inputs)\n",
    "            loss = criterion(outputs, targets)\n",
    "            loss.backward()\n",
    "            optimizer.step()\n",
    "            running_loss += loss.item()\n",
    "            \n",
    "        avg_train_loss = running_loss / len(train_loader)\n",
    "        train_loss.append(avg_train_loss)\n",
    "        print(f\"SNR: {snr}/{SNR[-1]}, LS+LI, Epoch {epoch+1}/{num_epochs}, Loss: {avg_train_loss} \")\n",
    "        \n",
    "        # Validation \n",
    "        model.eval()\n",
    "        running_val_loss = 0.0\n",
    "        with torch.no_grad():\n",
    "            for val_inputs, val_targets in val_loader:\n",
    "                val_inputs_real = val_inputs[:,0,:,:].unsqueeze(1)\n",
    "                val_inputs_imag = val_inputs[:,1,:,:].unsqueeze(1)\n",
    "                val_targets_real = val_targets[:,0,:,:].unsqueeze(1)\n",
    "                val_targets_imag = val_targets[:,1,:,:].unsqueeze(1)\n",
    "                \n",
    "                val_outputs_real = model(val_inputs_real)\n",
    "                val_loss_real = criterion(val_outputs_real, val_targets_real)\n",
    "                running_val_loss += val_loss_real.item()\n",
    "                \n",
    "                val_outputs_imag = model(val_inputs_imag)\n",
    "                val_loss_imag = criterion(val_outputs_imag, val_targets_imag)\n",
    "                running_val_loss += val_loss_imag.item()\n",
    "                \n",
    "                if (epoch == num_epochs-1):\n",
    "                    H_NN_val[i:i+val_outputs_real.size(0),0,:,:].unsqueeze(1).copy_(val_outputs_real)\n",
    "                    H_NN_val[i:i+val_outputs_imag.size(0),1,:,:].unsqueeze(1).copy_(val_outputs_imag)\n",
    "                    i = i+val_outputs_imag.size(0)\n",
    "                \n",
    "        avg_val_loss = running_val_loss / (len(val_loader)*2)\n",
    "        val_loss.append(avg_val_loss)    \n",
    "                \n",
    "        print(f\"SNR: {snr}/{SNR[-1]}, LS+LI, Val Loss: {avg_val_loss}\")\n",
    "\n",
    "\n",
    "    save_folder = os.path.join(config.FILE_PATH, 'model/static/CNN', 'BS16', rowss, 'ver2', str(snr)+'dB')\n",
    "    os.makedirs(save_folder, exist_ok=True)\n",
    "    index_save = loader.find_incremental_filename(save_folder, 'CNN_', '_variable')\n",
    "\n",
    "    model_save_path = os.path.join(save_folder,  'CNN_' +str(index_save)+'_LS_LI_CNN_model.pth')\n",
    "    variable_save_path = os.path.join(save_folder, 'CNN_' +str(index_save)+'_variable.pth')\n",
    "    params_save_path = os.path.join(save_folder, 'CNN_' +str(index_save)+'_params.mat')\n",
    "    \n",
    "    params = {   \n",
    "                'SNR': snr,\n",
    "                'epoc': NUM_EPOCHS,\n",
    "                'rows': rowss,\n",
    "                'learning_rate': learning_rate,\n",
    "                'train_track_LI': train_loss,\n",
    "                'val_track_LI': val_loss,\n",
    "    }\n",
    "    variables = {             \n",
    "                'train_track_LI': train_loss,\n",
    "                'val_track_LI': val_loss,\n",
    "                'train_min_LI': trainData_min.cpu(),\n",
    "                'train_max_LI': trainData_max.cpu(),\n",
    "                'train_label_min': trainLabels_min.cpu(),\n",
    "                'train_label_max': trainLabels_max.cpu(),\n",
    "    }\n",
    "    # variable to save \n",
    "    # Save the models' state dictionaries \n",
    "    torch.save({\n",
    "        'model_state_dict': model.state_dict(),\n",
    "        'optimizer_state_dict': optimizer.state_dict()\n",
    "        }, model_save_path)\n",
    "\n",
    "    figure_save_path = os.path.join(config.FILE_PATH, 'figure', 'static', 'CNN', 'BS16' ,  rowss, 'ver2', str(snr) + 'dB') \n",
    "    os.makedirs(figure_save_path, exist_ok=True)\n",
    "\n",
    "    plt.figure(figsize=(10, 5))\n",
    "    x = range(1, len(val_loss) + 1)\n",
    "    plt.plot(x,train_loss, label='Training Loss')\n",
    "    plt.plot(x,val_loss, label='Validation Loss')\n",
    "    plt.xlabel('Epoch')\n",
    "    plt.ylabel('Loss')\n",
    "    plt.title('Training and Validation Loss')\n",
    "    plt.xticks(range(0, len(val_loss) + 1, int(len(val_loss)/5)))\n",
    "    plt.legend()\n",
    "    plt.savefig(os.path.join(figure_save_path,  str(index_save) + '_LS_LI_Loss.png') )\n",
    "    plt.clf()\n",
    "\n",
    "\n",
    "    # True channel\n",
    "    H_val_true = valLabels.cpu()\n",
    "    # convert to complex matrices\n",
    "    H_val_true_complex = torch.complex(H_val_true[:,0,:,:], H_val_true[:,1,:,:])\n",
    "    # variables['H_val_true'] = H_val_true # (nVal, 2, 612, 14)\n",
    "\n",
    "    plt.figure(figsize=(10, 5))\n",
    "    plt.imshow(H_val_true[-1,0,:,:],  aspect='auto', cmap='viridis', interpolation='none')\n",
    "    plt.xlabel('OFDM symbol')\n",
    "    plt.ylabel('Subcarrier')\n",
    "    plt.title('True Channel')\n",
    "    plt.colorbar()\n",
    "    plt.savefig(os.path.join(figure_save_path,  str(index_save) + '_trueChannel.png') )\n",
    "    plt.clf()\n",
    "\n",
    "\n",
    "    # Linear interpolated channel\n",
    "    H_val_linInterp = valData.cpu()\n",
    "    # convert to complex matrices\n",
    "    H_val_linInterp_complex = torch.complex(H_val_linInterp[:,0,:,:], H_val_linInterp[:,1,:,:])\n",
    "\n",
    "    # NMSE of Linear Interpolation\n",
    "    # Calculate the mean squared error\n",
    "    mse_LI = torch.mean(torch.abs(H_val_true_complex - H_val_linInterp_complex) ** 2)\n",
    "    # Calculate the variance of the reference tensor (complex_tensor1)\n",
    "    variance = torch.var(H_val_true_complex)\n",
    "    # Calculate the NMSE\n",
    "    nmse_LI = mse_LI / variance\n",
    "    variables['NMSE_LI'] = nmse_LI.cpu()\n",
    "    print(f\"LS+LI NMSE: {nmse_LI.item()}\")\n",
    "\n",
    "    plt.figure(figsize=(10, 5))\n",
    "    plt.imshow(H_val_linInterp[-1,0,:,:],  aspect='auto', cmap='viridis', interpolation='none')\n",
    "    plt.xlabel('OFDM symbol')\n",
    "    plt.ylabel('Subcarrier')\n",
    "    plt.title(f'LS + Interpolate Estimated Channel, NMSE: {nmse_LI:.4f}')\n",
    "    plt.colorbar()\n",
    "    plt.savefig(os.path.join(figure_save_path,  str(index_save) + '_LS_LI_estimatedChan.png') )\n",
    "    # plt.show()\n",
    "    plt.clf()\n",
    "\n",
    "    # Estimated Channel \n",
    "    H_val_NN = H_NN_val.cpu()\n",
    "    plt.figure(figsize=(10, 5))\n",
    "    plt.imshow(H_val_NN[-1,0,:,:],  aspect='auto', cmap='viridis', interpolation='none')\n",
    "    plt.xlabel('OFDM symbol')\n",
    "    plt.ylabel('Subcarrier')\n",
    "    plt.title('LI+CNN Estimated Channel (before de-normlized)')\n",
    "    plt.colorbar()\n",
    "    plt.savefig(os.path.join(figure_save_path,  str(index_save) + '_LS_LI_CNN_estimatedChan_before_denorm.png') )\n",
    "    # plt.show()\n",
    "    plt.clf()\n",
    "\n",
    "\n",
    "    # De-normalized\n",
    "    H_val_NN_denormd = H_NN_val * (trainLabels_max - trainLabels_min) + trainLabels_min\n",
    "    H_val_NN_denormd = H_val_NN_denormd.cpu()\n",
    "\n",
    "    # variables['H_val_LI_NN'] = H_val_NN_denormd # (nVal, 2, 612, 14)\n",
    "\n",
    "    # convert to complex matrices\n",
    "    H_val_NN_denormd_complex = torch.complex(H_val_NN_denormd[:,0,:,:], H_val_NN_denormd[:,1,:,:])\n",
    "\n",
    "    # NMSE of Linear Interpolation + NN\n",
    "    # Calculate the mean squared error\n",
    "    mse_LI_NN = torch.mean(torch.abs(H_val_true_complex - H_val_NN_denormd_complex) ** 2)\n",
    "    # Calculate the NMSE\n",
    "    nmse_LI_NN = mse_LI_NN / variance\n",
    "    print(f\"LS+LI+CNN NMSE: {nmse_LI_NN.item()}\")\n",
    "    variables['NMSE_LI_NN'] = nmse_LI_NN.cpu()\n",
    "\n",
    "    plt.figure(figsize=(10, 5))\n",
    "    plt.imshow(H_val_NN_denormd[-1,0,:,:],  aspect='auto', cmap='viridis', interpolation='none')\n",
    "    plt.xlabel('OFDM symbol')\n",
    "    plt.ylabel('Subcarrier')\n",
    "    plt.title(f'LI+CNN Estimated Channel (after de-normlized), NMSE: {nmse_LI_NN:.4f}')\n",
    "    plt.colorbar()\n",
    "    plt.savefig(os.path.join(figure_save_path,  str(index_save) + '_LS_LI_CNN_estimatedChan.png') )\n",
    "    plt.clf()\n",
    "\n",
    "\n",
    "\n",
    "    # ------------------------------------------------------\n",
    "    # When Input of the NN is just H_equalized\n",
    "    print(f\" Training for LS\")\n",
    "    # [samples, 2, 612, 14]\n",
    "    # Split into training and validation sets for H_NN training\n",
    "    trainData   = H_equal[0:train_size,:,:,:].to(device, dtype=torch.float)\n",
    "    trainLabels = H_true[0:train_size,:,:,:].to(device, dtype=torch.float)\n",
    "\n",
    "    valData   = H_equal[train_size:,:,:,:].to(device, dtype=torch.float)\n",
    "    valLabels = H_true[train_size:,:,:,:].to(device, dtype=torch.float)\n",
    "\n",
    "    # Normalization\n",
    "    trainData_min = trainData.min()\n",
    "    trainData_max = trainData.max()\n",
    "    trainLabels_min = trainLabels.min()\n",
    "    trainLabels_max = trainLabels.max()\n",
    "\n",
    "    trainData_normd   = (trainData - trainData_min)/ (trainData_max - trainData_min)\n",
    "    trainLabels_normd = (trainLabels - trainLabels_min)/ (trainLabels_max - trainLabels_min)\n",
    "    valData_normd     = (valData - trainData_min)/ (trainData_max - trainData_min)\n",
    "    valLabels_normd   = (valLabels - trainLabels_min)/ (trainLabels_max - trainLabels_min)\n",
    "\n",
    "\n",
    "    # Split real and imaginary grids into 2 image sets, then concatenate\n",
    "    trainData_normd   = torch.cat((trainData_normd[:,0,:,:], trainData_normd[:,1,:,:]), dim=0).unsqueeze(1)  # 612 x 14 x (Nsamples*2)\n",
    "    trainLabels_normd = torch.cat((trainLabels_normd[:,0,:,:], trainLabels_normd[:,1,:,:]), dim=0).unsqueeze(1)  # 612 x 14 x (Nsamples*2)\n",
    "\n",
    "    H_temp = trainData.cpu()\n",
    "    plt.figure(figsize=(10, 5))\n",
    "    plt.imshow(H_temp[0,0,:,:],  aspect='auto', cmap='viridis', interpolation='none')\n",
    "    plt.colorbar()\n",
    "    plt.xlabel('OFDM symbol')\n",
    "    plt.ylabel('Subcarrier')\n",
    "    plt.title(f'LS Channel')\n",
    "    plt.savefig(os.path.join(figure_save_path,  str(index_save) + '_LS_Chan.png') )\n",
    "    plt.clf()\n",
    "\n",
    "\n",
    "    # Create a DataLoader for dataset\n",
    "    dataset = TensorDataset(trainData_normd, trainLabels_normd)  # [4224, 1, 612, 14]\n",
    "    train_loader = DataLoader(dataset, batch_size=BATCH_SIZE, shuffle=True)\n",
    "\n",
    "    val_dataset = TensorDataset(valData_normd, valLabels_normd)  # [241, 2, 612, 14]\n",
    "    val_loader = DataLoader(val_dataset, batch_size=BATCH_SIZE, shuffle=False)\n",
    "\n",
    "    model2 = utils.CNN_Est().to(device)\n",
    "    learning_rate = 0.00001\n",
    "    optimizer2 = torch.optim.Adam(model2.parameters(), lr=learning_rate) \n",
    "    criterion = nn.MSELoss()\n",
    "\n",
    "    # Training loop\n",
    "    train_loss =[]\n",
    "    val_loss = []\n",
    "    H_NN_val = torch.empty_like(valLabels) # [nVal, 2, 612, 14]\n",
    "    num_epochs = NUM_EPOCHS\n",
    "    for epoch in range(num_epochs):\n",
    "        model2.train()\n",
    "        running_loss = 0.0\n",
    "        if (epoch == num_epochs-1):\n",
    "            i = 0\n",
    "        for inputs, targets in train_loader:\n",
    "            optimizer2.zero_grad()\n",
    "            outputs = model2(inputs)\n",
    "            loss = criterion(outputs, targets)\n",
    "            loss.backward()\n",
    "            optimizer2.step()\n",
    "            running_loss += loss.item()\n",
    "            \n",
    "        avg_train_loss = running_loss / len(train_loader)\n",
    "        train_loss.append(avg_train_loss)\n",
    "        print(f\"SNR: {snr}/{SNR[-1]}, LS, Epoch {epoch+1}/{num_epochs}, Loss: {avg_train_loss} \")\n",
    "        \n",
    "        # Validation \n",
    "        model2.eval()\n",
    "        running_val_loss = 0.0\n",
    "        with torch.no_grad():\n",
    "            for val_inputs, val_targets in val_loader:\n",
    "                val_inputs_real = val_inputs[:,0,:,:].unsqueeze(1)\n",
    "                val_inputs_imag = val_inputs[:,1,:,:].unsqueeze(1)\n",
    "                val_targets_real = val_targets[:,0,:,:].unsqueeze(1)\n",
    "                val_targets_imag = val_targets[:,1,:,:].unsqueeze(1)\n",
    "                \n",
    "                val_outputs_real = model2(val_inputs_real)\n",
    "                val_loss_real = criterion(val_outputs_real, val_targets_real)\n",
    "                running_val_loss += val_loss_real.item()\n",
    "                \n",
    "                val_outputs_imag = model2(val_inputs_imag)\n",
    "                val_loss_imag = criterion(val_outputs_imag, val_targets_imag)\n",
    "                running_val_loss += val_loss_imag.item()\n",
    "                \n",
    "                if (epoch == num_epochs-1):\n",
    "                    H_NN_val[i:i+val_outputs_real.size(0),0,:,:].unsqueeze(1).copy_(val_outputs_real)\n",
    "                    H_NN_val[i:i+val_outputs_imag.size(0),1,:,:].unsqueeze(1).copy_(val_outputs_imag)\n",
    "                    i = i+val_outputs_imag.size(0)\n",
    "                \n",
    "        avg_val_loss = running_val_loss / (len(val_loader)*2)\n",
    "        val_loss.append(avg_val_loss)    \n",
    "                \n",
    "        print(f\"SNR: {snr}/{SNR[-1]}, LS, Val Loss: {avg_val_loss}\")\n",
    "\n",
    "    plt.figure(figsize=(10, 5))\n",
    "    x = range(1, len(val_loss) + 1)\n",
    "    plt.plot(x,train_loss, label='Training Loss')\n",
    "    plt.plot(x,val_loss, label='Validation Loss')\n",
    "    plt.xlabel('Epoch')\n",
    "    plt.ylabel('Loss')\n",
    "    plt.title('Training and Validation Loss')\n",
    "    plt.xticks(range(0, len(val_loss) + 1, int(len(val_loss)/5)))\n",
    "    plt.legend()\n",
    "    plt.savefig(os.path.join(figure_save_path,  str(index_save) + '_LS_Loss.png') )\n",
    "    plt.clf()\n",
    "\n",
    "    H_val_NN_denormd = H_NN_val * (trainLabels_max - trainLabels_min) + trainLabels_min\n",
    "    H_val_NN_denormd = H_val_NN_denormd.cpu()\n",
    "\n",
    "    model_save_path = os.path.join(save_folder,  'CNN_' +str(index_save)+'_LS_CNN_model.pth')\n",
    "\n",
    "    # variables['H_val_LS_NN']= H_val_NN_denormd.cpu() # (nVal, 2, 612, 14)\n",
    "    variables['train_track_LS']= train_loss\n",
    "    variables['val_track_LS']= val_loss\n",
    "    variables['train_min_LS']= trainData_min.cpu()\n",
    "    variables['train_max_LS']= trainData_max.cpu()\n",
    "\n",
    "    # Save parameters\n",
    "    params['train_track_LS']= train_loss\n",
    "    params['val_track_LS']= val_loss\n",
    "    savemat(params_save_path, params)\n",
    "    # Save the models' state dictionaries \n",
    "    torch.save({'model_state_dict': model2.state_dict(),\n",
    "                'optimizer_state_dict': optimizer.state_dict()\n",
    "                }, model_save_path)\n",
    "\n",
    "\n",
    "    # NMSE of LS + NN\n",
    "    H_val_LS_NN_complex = torch.complex(H_val_NN_denormd[:,0,:,:], H_val_NN_denormd[:,1,:,:])\n",
    "    # Calculate the mean squared error\n",
    "    mse_LS_NN = torch.mean(torch.abs(H_val_true_complex - H_val_LS_NN_complex) ** 2)\n",
    "    # Calculate the NMSE\n",
    "    nmse_LS_NN = mse_LS_NN / variance\n",
    "    print(f\"LS+CNN NMSE: {nmse_LS_NN.item()}\")\n",
    "    variables['NMSE_LS_NN'] = nmse_LS_NN.cpu()\n",
    "\n",
    "    plt.figure(figsize=(10, 5))\n",
    "    plt.imshow(H_val_NN_denormd[-1,0,:,:],  aspect='auto', cmap='viridis', interpolation='none')\n",
    "    plt.xlabel('OFDM symbol')\n",
    "    plt.ylabel('Subcarrier')\n",
    "    plt.title(f'LS+CNN Estimated Channel (after de-normlized), NMSE: {nmse_LS_NN:.4f}')\n",
    "    plt.colorbar()\n",
    "    plt.savefig(os.path.join(figure_save_path,  str(index_save) + '_LS_CNN_estimatedChan.png') )\n",
    "    plt.clf()\n",
    "\n",
    "    torch.save( variables,variable_save_path)"
   ]
  }
 ],
 "metadata": {
  "kernelspec": {
   "display_name": "TF_GPU",
   "language": "python",
   "name": "python3"
  },
  "language_info": {
   "codemirror_mode": {
    "name": "ipython",
    "version": 3
   },
   "file_extension": ".py",
   "mimetype": "text/x-python",
   "name": "python",
   "nbconvert_exporter": "python",
   "pygments_lexer": "ipython3",
   "version": "3.8.19"
  }
 },
 "nbformat": 4,
 "nbformat_minor": 2
}
