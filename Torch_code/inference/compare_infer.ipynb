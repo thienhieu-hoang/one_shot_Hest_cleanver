{
 "cells": [
  {
   "cell_type": "code",
   "execution_count": 1,
   "metadata": {},
   "outputs": [],
   "source": [
    "import h5py\n",
    "import torch\n",
    "import torch.nn as nn\n",
    "import random\n",
    "\n",
    "\n",
    "import os\n",
    "import sys\n",
    "import numpy as np\n",
    "import matplotlib.pyplot as plt\n",
    "import datetime\n",
    "from tempfile import TemporaryFile\n",
    "from scipy.io import loadmat\n",
    "from scipy.io import savemat\n",
    "from torch.utils.data import DataLoader, TensorDataset\n",
    "\n",
    "sys.path.append('../helper')\n",
    "import loader\n",
    "import utils \n",
    "\n",
    "sys.path.append('../train/Pix2Pix/helperPix2Pix')\n",
    "from generator_model import Generator\n",
    "from discriminator_model import Discriminator"
   ]
  },
  {
   "cell_type": "code",
   "execution_count": 2,
   "metadata": {},
   "outputs": [
    {
     "name": "stderr",
     "output_type": "stream",
     "text": [
      "/home/thien/.local/lib/python3.8/site-packages/torch/cuda/__init__.py:497: UserWarning: Can't initialize NVML\n",
      "  warnings.warn(\"Can't initialize NVML\")\n"
     ]
    },
    {
     "ename": "FileNotFoundError",
     "evalue": "[Errno 2] No such file or directory: '../model/static/CNN/BS16/3500_3516/ver27_/5dB/CNN_1_LS_CNN_model.pth'",
     "output_type": "error",
     "traceback": [
      "\u001b[0;31m---------------------------------------------------------------------------\u001b[0m",
      "\u001b[0;31mFileNotFoundError\u001b[0m                         Traceback (most recent call last)",
      "Cell \u001b[0;32mIn[2], line 26\u001b[0m\n\u001b[1;32m     22\u001b[0m gan_LI_G\u001b[38;5;241m.\u001b[39meval()\n\u001b[1;32m     25\u001b[0m model_LS_CNN \u001b[38;5;241m=\u001b[39m utils\u001b[38;5;241m.\u001b[39mCNN_Est(dropOut\u001b[38;5;241m=\u001b[39m\u001b[38;5;241m0\u001b[39m, act \u001b[38;5;241m=\u001b[39mCNN_activation)\n\u001b[0;32m---> 26\u001b[0m checkpoint_LS \u001b[38;5;241m=\u001b[39m \u001b[43mtorch\u001b[49m\u001b[38;5;241;43m.\u001b[39;49m\u001b[43mload\u001b[49m\u001b[43m(\u001b[49m\u001b[43mcnn_model_path\u001b[49m\u001b[43m \u001b[49m\u001b[38;5;241;43m+\u001b[39;49m\u001b[43m \u001b[49m\u001b[38;5;28;43mstr\u001b[39;49m\u001b[43m(\u001b[49m\u001b[43msnr\u001b[49m\u001b[43m)\u001b[49m\u001b[43m \u001b[49m\u001b[38;5;241;43m+\u001b[39;49m\u001b[43m \u001b[49m\u001b[38;5;124;43m'\u001b[39;49m\u001b[38;5;124;43mdB/CNN_1_LS_CNN_model.pth\u001b[39;49m\u001b[38;5;124;43m'\u001b[39;49m\u001b[43m)\u001b[49m\n\u001b[1;32m     27\u001b[0m model_LS_CNN\u001b[38;5;241m.\u001b[39mload_state_dict(checkpoint_LS[\u001b[38;5;124m'\u001b[39m\u001b[38;5;124mmodel_state_dict\u001b[39m\u001b[38;5;124m'\u001b[39m])\n\u001b[1;32m     28\u001b[0m model_LS_CNN\u001b[38;5;241m.\u001b[39meval()\n",
      "File \u001b[0;32m~/.local/lib/python3.8/site-packages/torch/serialization.py:771\u001b[0m, in \u001b[0;36mload\u001b[0;34m(f, map_location, pickle_module, weights_only, **pickle_load_args)\u001b[0m\n\u001b[1;32m    768\u001b[0m \u001b[38;5;28;01mif\u001b[39;00m \u001b[38;5;124m'\u001b[39m\u001b[38;5;124mencoding\u001b[39m\u001b[38;5;124m'\u001b[39m \u001b[38;5;129;01mnot\u001b[39;00m \u001b[38;5;129;01min\u001b[39;00m pickle_load_args\u001b[38;5;241m.\u001b[39mkeys():\n\u001b[1;32m    769\u001b[0m     pickle_load_args[\u001b[38;5;124m'\u001b[39m\u001b[38;5;124mencoding\u001b[39m\u001b[38;5;124m'\u001b[39m] \u001b[38;5;241m=\u001b[39m \u001b[38;5;124m'\u001b[39m\u001b[38;5;124mutf-8\u001b[39m\u001b[38;5;124m'\u001b[39m\n\u001b[0;32m--> 771\u001b[0m \u001b[38;5;28;01mwith\u001b[39;00m \u001b[43m_open_file_like\u001b[49m\u001b[43m(\u001b[49m\u001b[43mf\u001b[49m\u001b[43m,\u001b[49m\u001b[43m \u001b[49m\u001b[38;5;124;43m'\u001b[39;49m\u001b[38;5;124;43mrb\u001b[39;49m\u001b[38;5;124;43m'\u001b[39;49m\u001b[43m)\u001b[49m \u001b[38;5;28;01mas\u001b[39;00m opened_file:\n\u001b[1;32m    772\u001b[0m     \u001b[38;5;28;01mif\u001b[39;00m _is_zipfile(opened_file):\n\u001b[1;32m    773\u001b[0m         \u001b[38;5;66;03m# The zipfile reader is going to advance the current file position.\u001b[39;00m\n\u001b[1;32m    774\u001b[0m         \u001b[38;5;66;03m# If we want to actually tail call to torch.jit.load, we need to\u001b[39;00m\n\u001b[1;32m    775\u001b[0m         \u001b[38;5;66;03m# reset back to the original position.\u001b[39;00m\n\u001b[1;32m    776\u001b[0m         orig_position \u001b[38;5;241m=\u001b[39m opened_file\u001b[38;5;241m.\u001b[39mtell()\n",
      "File \u001b[0;32m~/.local/lib/python3.8/site-packages/torch/serialization.py:270\u001b[0m, in \u001b[0;36m_open_file_like\u001b[0;34m(name_or_buffer, mode)\u001b[0m\n\u001b[1;32m    268\u001b[0m \u001b[38;5;28;01mdef\u001b[39;00m \u001b[38;5;21m_open_file_like\u001b[39m(name_or_buffer, mode):\n\u001b[1;32m    269\u001b[0m     \u001b[38;5;28;01mif\u001b[39;00m _is_path(name_or_buffer):\n\u001b[0;32m--> 270\u001b[0m         \u001b[38;5;28;01mreturn\u001b[39;00m \u001b[43m_open_file\u001b[49m\u001b[43m(\u001b[49m\u001b[43mname_or_buffer\u001b[49m\u001b[43m,\u001b[49m\u001b[43m \u001b[49m\u001b[43mmode\u001b[49m\u001b[43m)\u001b[49m\n\u001b[1;32m    271\u001b[0m     \u001b[38;5;28;01melse\u001b[39;00m:\n\u001b[1;32m    272\u001b[0m         \u001b[38;5;28;01mif\u001b[39;00m \u001b[38;5;124m'\u001b[39m\u001b[38;5;124mw\u001b[39m\u001b[38;5;124m'\u001b[39m \u001b[38;5;129;01min\u001b[39;00m mode:\n",
      "File \u001b[0;32m~/.local/lib/python3.8/site-packages/torch/serialization.py:251\u001b[0m, in \u001b[0;36m_open_file.__init__\u001b[0;34m(self, name, mode)\u001b[0m\n\u001b[1;32m    250\u001b[0m \u001b[38;5;28;01mdef\u001b[39;00m \u001b[38;5;21m__init__\u001b[39m(\u001b[38;5;28mself\u001b[39m, name, mode):\n\u001b[0;32m--> 251\u001b[0m     \u001b[38;5;28msuper\u001b[39m(_open_file, \u001b[38;5;28mself\u001b[39m)\u001b[38;5;241m.\u001b[39m\u001b[38;5;21m__init__\u001b[39m(\u001b[38;5;28;43mopen\u001b[39;49m\u001b[43m(\u001b[49m\u001b[43mname\u001b[49m\u001b[43m,\u001b[49m\u001b[43m \u001b[49m\u001b[43mmode\u001b[49m\u001b[43m)\u001b[49m)\n",
      "\u001b[0;31mFileNotFoundError\u001b[0m: [Errno 2] No such file or directory: '../model/static/CNN/BS16/3500_3516/ver27_/5dB/CNN_1_LS_CNN_model.pth'"
     ]
    }
   ],
   "source": [
    "rowss = '3500_3516'\n",
    "gan_model_path = '../model/static/GAN/BS16/'+ rowss + '/ver11_/'\n",
    "cnn_model_path = '../model/static/CNN/BS16/'+ rowss + '/ver27_/'\n",
    "CDL_path = '../../CDL Customization/Data/ver39_/'\n",
    "snr = 5\n",
    "device = 'cpu'\n",
    "\n",
    "# Min-max Scaler to [-1 1] range\n",
    "norm_approach = 'minmax'\n",
    "lower_range = -1\n",
    "CNN_DropOut = 0.2\n",
    "CNN_activation = 'Tanh'\n",
    "\n",
    "gan_LS_G = Generator()\n",
    "checkpoint_LS_G = torch.load(gan_model_path + str(snr) + 'dB/G_1_LS_GAN_model.pth')\n",
    "gan_LS_G.load_state_dict(checkpoint_LS_G['model_state_dict'])\n",
    "gan_LS_G.eval()\n",
    "\n",
    "gan_LI_G = Generator()\n",
    "checkpoint_LI_G = torch.load(gan_model_path + str(snr) + 'dB/G_1_LS_LI_GAN_model.pth')\n",
    "gan_LI_G.load_state_dict(checkpoint_LI_G['model_state_dict'])\n",
    "gan_LI_G.eval()\n",
    "\n",
    "\n",
    "model_LS_CNN = utils.CNN_Est(dropOut=0, act =CNN_activation)\n",
    "checkpoint_LS = torch.load(cnn_model_path + str(snr) + 'dB/CNN_1_LS_CNN_model.pth')\n",
    "model_LS_CNN.load_state_dict(checkpoint_LS['model_state_dict'])\n",
    "model_LS_CNN.eval()\n",
    "\n",
    "model_LS_LI_CNN = utils.CNN_Est(dropOut=CNN_DropOut, act =CNN_activation)\n",
    "checkpoint_LI = torch.load(cnn_model_path + str(snr) + 'dB/CNN_1_LS_LI_CNN_model.pth')\n",
    "model_LS_LI_CNN.load_state_dict(checkpoint_LI['model_state_dict'])\n",
    "model_LS_LI_CNN.eval()\n"
   ]
  },
  {
   "cell_type": "code",
   "execution_count": null,
   "metadata": {},
   "outputs": [],
   "source": [
    "\n",
    "mapBaseData_path = CDL_path + str(snr) + 'dB/1_mapBaseData.mat'\n",
    "file = h5py.File(mapBaseData_path, 'r')\n",
    "print('Size of data:')\n",
    "print(file['H_data'].shape)\n",
    "\n",
    "H_true = np.empty((0, 2, 612, 14)) # true channel\n",
    "H_equal = np.empty((0, 2, 612, 14)) # noisy channel # LS channel\n",
    "H_linear = np.empty((0, 2, 612, 14)) # noisy channel # LS+Linear Interpolated channel\n",
    "        \n",
    "H_true = np.concatenate((H_true, (np.array(file['H_data']))) , axis = 0) # N_samples x channel(2) x height(614) x width(14)\n",
    "H_equal = np.concatenate((H_equal, (np.array(file['H_equalized_data']))), axis = 0)\n",
    "H_linear = np.concatenate((H_linear, (np.array(file['H_linear_data']))), axis=0)\n",
    "\n",
    "H_true = torch.from_numpy(H_true)\n",
    "H_equal = torch.from_numpy(H_equal)\n",
    "H_linear = torch.from_numpy(H_linear)\n",
    "\n",
    "testData_LS_normd, test_LS_min, test_LS_max = utils.minmaxScaler(H_equal)\n",
    "testData_LI_normd, test_LI_min, test_LI_max = utils.minmaxScaler(H_linear)\n",
    "\n",
    "min_maxLS = torch.stack((test_LS_min, test_LS_max), dim=1)\n",
    "min_maxLI = torch.stack((test_LI_min, test_LI_max), dim=1)\n",
    "\n",
    "testData_LS_normd = testData_LS_normd.to(device, dtype=torch.float)\n",
    "testData_LI_normd = testData_LI_normd.to(device, dtype=torch.float)\n",
    "min_maxLS         = min_maxLS.to(device, dtype=torch.float)\n",
    "min_maxLI         = min_maxLI.to(device, dtype=torch.float)\n",
    "                                    \n",
    "\n",
    "H_true = H_true.to(device, dtype=torch.float)"
   ]
  },
  {
   "cell_type": "code",
   "execution_count": null,
   "metadata": {},
   "outputs": [],
   "source": [
    "idx = random.randint(0, file['H_data'].shape[0]-1)"
   ]
  }
 ],
 "metadata": {
  "kernelspec": {
   "display_name": "Torch_GPU",
   "language": "python",
   "name": "python3"
  },
  "language_info": {
   "codemirror_mode": {
    "name": "ipython",
    "version": 3
   },
   "file_extension": ".py",
   "mimetype": "text/x-python",
   "name": "python",
   "nbconvert_exporter": "python",
   "pygments_lexer": "ipython3",
   "version": "3.8.19"
  }
 },
 "nbformat": 4,
 "nbformat_minor": 2
}
