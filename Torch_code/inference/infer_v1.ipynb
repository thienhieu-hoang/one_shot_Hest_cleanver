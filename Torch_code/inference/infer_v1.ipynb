{
 "cells": [
  {
   "cell_type": "markdown",
   "metadata": {},
   "source": [
    "import CNN models\n",
    "import map-based data\n",
    "\n",
    "loop over number of data samples\n",
    "    apply CNN model to data\n",
    "    de-normalize\n",
    "    calculate NMSE\n"
   ]
  },
  {
   "cell_type": "code",
   "execution_count": null,
   "metadata": {},
   "outputs": [],
   "source": []
  }
 ],
 "metadata": {
  "language_info": {
   "name": "python"
  }
 },
 "nbformat": 4,
 "nbformat_minor": 2
}
