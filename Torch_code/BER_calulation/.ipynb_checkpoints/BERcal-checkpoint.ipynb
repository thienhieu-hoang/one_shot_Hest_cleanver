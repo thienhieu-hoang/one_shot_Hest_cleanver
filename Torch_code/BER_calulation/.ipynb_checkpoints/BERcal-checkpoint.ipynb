{
 "cells": [
  {
   "cell_type": "code",
   "execution_count": 1,
   "metadata": {},
   "outputs": [],
   "source": [
    "import scipy.io as sio\n",
    "import torch\n",
    "from torch.utils.data import TensorDataset, DataLoader\n",
    "import numpy as np\n",
    "import h5py"
   ]
  },
  {
   "cell_type": "code",
   "execution_count": 2,
   "metadata": {},
   "outputs": [],
   "source": [
    "import sys\n",
    "import os\n",
    "# Get the parent directory of the current folder\n",
    "parent_dir = os.path.abspath(os.path.join(os.getcwd(), \"..\"))\n",
    "\n",
    "# Add the parent directory to sys.path so Python can find the helper folder\n",
    "sys.path.append(parent_dir)\n",
    "\n",
    "# to load models\n",
    "from train.Pix2Pix.helperPix2Pix.discriminator_model import Discriminator\n",
    "from train.Pix2Pix.helperPix2Pix.generator_model import Generator, Generator_FineTune\n",
    "from helper.utils import CNN_Est2, CNN_Est\n",
    "from helper.utils_transfer import FineTuneModel2"
   ]
  },
  {
   "cell_type": "code",
   "execution_count": 3,
   "metadata": {},
   "outputs": [
    {
     "name": "stdout",
     "output_type": "stream",
     "text": [
      "Using device: cuda\n"
     ]
    }
   ],
   "source": [
    "device = torch.device('cuda' if torch.cuda.is_available() else 'cpu')\n",
    "print(f\"Using device: {device}\")"
   ]
  },
  {
   "cell_type": "code",
   "execution_count": 4,
   "metadata": {},
   "outputs": [
    {
     "name": "stdout",
     "output_type": "stream",
     "text": [
      "snr -25/30\n",
      "snr -20/30\n",
      "snr -15/30\n",
      "snr -10/30\n",
      "snr -5/30\n",
      "snr 0/30\n",
      "snr 5/30\n",
      "snr 10/30\n",
      "snr 15/30\n",
      "snr 20/30\n",
      "snr 25/30\n",
      "snr 30/30\n"
     ]
    }
   ],
   "source": [
    "domain = \"mapBased\"\n",
    "for snr in np.arange(-25, 35, 5):  \n",
    "    print(f\"snr {snr}/30\")"
   ]
  },
  {
   "cell_type": "code",
   "execution_count": 5,
   "metadata": {},
   "outputs": [
    {
     "name": "stderr",
     "output_type": "stream",
     "text": [
      "/home/thien/miniconda3/envs/Torch_GPU/lib/python3.8/site-packages/scipy/io/matlab/_mio.py:227: MatReadWarning: Duplicate variable name \"None\" in stream - replacing previous with new\n",
      "Consider mio5.varmats_from_mat to split file into single variable files\n",
      "  matfile_dict = MR.get_variables(variable_names)\n"
     ]
    }
   ],
   "source": [
    "# Load the .mat file\n",
    "if domain == \"DeepMIMO\":\n",
    "    row = '3500_3516'\n",
    "    dataFile = '../../DeepMIMOv2/DeepMIMO_Data/Static_BS16/freq_symb_1ant_612sub_ver4/Gan_' + str(snr) +'_dBOutdoor1_3p4_1ant_612subcs_Row_' + str(row) + '.mat'\n",
    "    mat_data = h5py.File(dataFile, 'r')     # load Y, H, N\n",
    "    \n",
    "elif domain == \"mapBased\":\n",
    "    dataFile = '../../CDL Customization/Data/ver39_/' + str(snr) + 'dB/1_mapBaseData.mat'\n",
    "    mat_data = h5py.File(dataFile, 'r')     # load Y, H, N\n",
    "    \n",
    "H_data = np.array(mat_data['H_data'])                # Shape: (N, 2, 612, 14 )\n",
    "H_linear_data = np.array(mat_data['H_linear_data'])  \n",
    "    # H_equalized_data = np.array(mat_data['H_equalized_data'])  \n",
    "Y_data = np.array(mat_data['Y_data'])                \n",
    "Noise = np.array(mat_data['Noise'])                  \n",
    "\n",
    "mat_data2 = sio.loadmat('../../DeepMIMOv2/DeepMIMO_Data/TransmitedGrid.mat') # load X (transmitted grid)\n",
    "X = np.transpose(mat_data2['X'], (3, 2, 1, 0)) "
   ]
  },
  {
   "cell_type": "code",
   "execution_count": 6,
   "metadata": {},
   "outputs": [],
   "source": [
    "# Verify that all tensors have the same first dimension\n",
    "num_samples = H_data.shape[0]\n",
    "\n",
    "# Randomly select {num_samples} unique indices from 10000 samples of X\n",
    "random_indices = np.random.choice(X.shape[0], num_samples, replace=False)\n",
    "# Extract the selected samples\n",
    "X_data = X[random_indices, :, :, :]  # Shape: (14, 612, 2, {num_samples})"
   ]
  },
  {
   "cell_type": "code",
   "execution_count": 7,
   "metadata": {},
   "outputs": [],
   "source": [
    "# Convert to PyTorch tensors\n",
    "# Assuming complex data; split into real and imaginary if needed\n",
    "H_data = torch.tensor(H_data, dtype=torch.float32).to(device)\n",
    "# H_linear_data = torch.tensor(H_linear_data, dtype=torch.float32).to(device)\n",
    "# H_equalized_data = torch.tensor(H_equalized_data, dtype=torch.float32).to(device)\n",
    "Y_data = torch.tensor(Y_data, dtype=torch.float32).to(device)\n",
    "Noise = torch.tensor(Noise, dtype=torch.float32).to(device)\n",
    "X_data = torch.tensor(X_data, dtype=torch.float32).to(device)"
   ]
  },
  {
   "cell_type": "code",
   "execution_count": 8,
   "metadata": {},
   "outputs": [
    {
     "name": "stderr",
     "output_type": "stream",
     "text": [
      "/tmp/ipykernel_3100527/2808721120.py:4: FutureWarning: You are using `torch.load` with `weights_only=False` (the current default value), which uses the default pickle module implicitly. It is possible to construct malicious pickle data which will execute arbitrary code during unpickling (See https://github.com/pytorch/pytorch/blob/main/SECURITY.md#untrusted-models for more details). In a future release, the default value for `weights_only` will be flipped to `True`. This limits the functions that could be executed during unpickling. Arbitrary objects will no longer be allowed to be loaded via this mode unless they are explicitly allowlisted by the user via `torch.serialization.add_safe_globals`. We recommend you start setting `weights_only=True` for any use case where you don't have full control of the loaded file. Please open an issue on GitHub for any issues related to this experimental feature.\n",
      "  checkpoint = (torch.load(model_path + str(snr)+'dB/CNN_1_LS_CNN_model.pth'))\n",
      "/tmp/ipykernel_3100527/2808721120.py:9: FutureWarning: You are using `torch.load` with `weights_only=False` (the current default value), which uses the default pickle module implicitly. It is possible to construct malicious pickle data which will execute arbitrary code during unpickling (See https://github.com/pytorch/pytorch/blob/main/SECURITY.md#untrusted-models for more details). In a future release, the default value for `weights_only` will be flipped to `True`. This limits the functions that could be executed during unpickling. Arbitrary objects will no longer be allowed to be loaded via this mode unless they are explicitly allowlisted by the user via `torch.serialization.add_safe_globals`. We recommend you start setting `weights_only=True` for any use case where you don't have full control of the loaded file. Please open an issue on GitHub for any issues related to this experimental feature.\n",
      "  checkpoint = (torch.load(model_path + str(snr)+'dB/CNN_1_LS_LI_CNN_model.pth'))\n",
      "/tmp/ipykernel_3100527/2808721120.py:16: FutureWarning: You are using `torch.load` with `weights_only=False` (the current default value), which uses the default pickle module implicitly. It is possible to construct malicious pickle data which will execute arbitrary code during unpickling (See https://github.com/pytorch/pytorch/blob/main/SECURITY.md#untrusted-models for more details). In a future release, the default value for `weights_only` will be flipped to `True`. This limits the functions that could be executed during unpickling. Arbitrary objects will no longer be allowed to be loaded via this mode unless they are explicitly allowlisted by the user via `torch.serialization.add_safe_globals`. We recommend you start setting `weights_only=True` for any use case where you don't have full control of the loaded file. Please open an issue on GitHub for any issues related to this experimental feature.\n",
      "  checkpoint = (torch.load(model_path + str(snr) + 'dB/' +str(epoc_load) + 'epoc_G_1_LS_GAN_model.pth'))\n",
      "/tmp/ipykernel_3100527/2808721120.py:21: FutureWarning: You are using `torch.load` with `weights_only=False` (the current default value), which uses the default pickle module implicitly. It is possible to construct malicious pickle data which will execute arbitrary code during unpickling (See https://github.com/pytorch/pytorch/blob/main/SECURITY.md#untrusted-models for more details). In a future release, the default value for `weights_only` will be flipped to `True`. This limits the functions that could be executed during unpickling. Arbitrary objects will no longer be allowed to be loaded via this mode unless they are explicitly allowlisted by the user via `torch.serialization.add_safe_globals`. We recommend you start setting `weights_only=True` for any use case where you don't have full control of the loaded file. Please open an issue on GitHub for any issues related to this experimental feature.\n",
      "  checkpoint = (torch.load(model_path + str(snr) + 'dB/' +str(epoc_load) + 'epoc_G_1_LS_LI_GAN_model.pth'))\n",
      "/tmp/ipykernel_3100527/2808721120.py:33: FutureWarning: You are using `torch.load` with `weights_only=False` (the current default value), which uses the default pickle module implicitly. It is possible to construct malicious pickle data which will execute arbitrary code during unpickling (See https://github.com/pytorch/pytorch/blob/main/SECURITY.md#untrusted-models for more details). In a future release, the default value for `weights_only` will be flipped to `True`. This limits the functions that could be executed during unpickling. Arbitrary objects will no longer be allowed to be loaded via this mode unless they are explicitly allowlisted by the user via `torch.serialization.add_safe_globals`. We recommend you start setting `weights_only=True` for any use case where you don't have full control of the loaded file. Please open an issue on GitHub for any issues related to this experimental feature.\n",
      "  checkpoint = (torch.load(model_path + 'CNN/ver10_/' + str(snr)+'dB/LS_CNN_model.pth'))\n",
      "/tmp/ipykernel_3100527/2808721120.py:41: FutureWarning: You are using `torch.load` with `weights_only=False` (the current default value), which uses the default pickle module implicitly. It is possible to construct malicious pickle data which will execute arbitrary code during unpickling (See https://github.com/pytorch/pytorch/blob/main/SECURITY.md#untrusted-models for more details). In a future release, the default value for `weights_only` will be flipped to `True`. This limits the functions that could be executed during unpickling. Arbitrary objects will no longer be allowed to be loaded via this mode unless they are explicitly allowlisted by the user via `torch.serialization.add_safe_globals`. We recommend you start setting `weights_only=True` for any use case where you don't have full control of the loaded file. Please open an issue on GitHub for any issues related to this experimental feature.\n",
      "  checkpoint = (torch.load(model_path + 'CNN/ver10_/' + str(snr)+'dB/LS_LI_CNN_model.pth'))\n",
      "/tmp/ipykernel_3100527/2808721120.py:48: FutureWarning: You are using `torch.load` with `weights_only=False` (the current default value), which uses the default pickle module implicitly. It is possible to construct malicious pickle data which will execute arbitrary code during unpickling (See https://github.com/pytorch/pytorch/blob/main/SECURITY.md#untrusted-models for more details). In a future release, the default value for `weights_only` will be flipped to `True`. This limits the functions that could be executed during unpickling. Arbitrary objects will no longer be allowed to be loaded via this mode unless they are explicitly allowlisted by the user via `torch.serialization.add_safe_globals`. We recommend you start setting `weights_only=True` for any use case where you don't have full control of the loaded file. Please open an issue on GitHub for any issues related to this experimental feature.\n",
      "  checkpoint = (torch.load(model_path + 'GAN/ver9_/' + str(snr)+'dB/LS_GAN_G_model.pth'))\n",
      "/tmp/ipykernel_3100527/2808721120.py:53: FutureWarning: You are using `torch.load` with `weights_only=False` (the current default value), which uses the default pickle module implicitly. It is possible to construct malicious pickle data which will execute arbitrary code during unpickling (See https://github.com/pytorch/pytorch/blob/main/SECURITY.md#untrusted-models for more details). In a future release, the default value for `weights_only` will be flipped to `True`. This limits the functions that could be executed during unpickling. Arbitrary objects will no longer be allowed to be loaded via this mode unless they are explicitly allowlisted by the user via `torch.serialization.add_safe_globals`. We recommend you start setting `weights_only=True` for any use case where you don't have full control of the loaded file. Please open an issue on GitHub for any issues related to this experimental feature.\n",
      "  checkpoint = (torch.load(model_path + 'GAN/ver9_/' + str(snr)+'dB/LS_LI_GAN_G_model.pth'))\n"
     ]
    },
    {
     "data": {
      "text/plain": [
       "Generator_FineTune(\n",
       "  (initial_down): Conv2d(1, 64, kernel_size=(8, 4), stride=(2, 1), padding=(1, 1), padding_mode=reflect)\n",
       "  (act_tanh): Tanh()\n",
       "  (act_leaky): LeakyReLU(negative_slope=0.01)\n",
       "  (act_relu): ReLU()\n",
       "  (down1): Block(\n",
       "    (batch_norm): BatchNorm2d(128, eps=1e-05, momentum=0.1, affine=True, track_running_stats=True)\n",
       "    (conv): Conv2d(64, 128, kernel_size=(8, 3), stride=(2, 1), padding=(1, 1), bias=False)\n",
       "    (activation): LeakyReLU(negative_slope=0.01)\n",
       "  )\n",
       "  (down2): Block(\n",
       "    (batch_norm): BatchNorm2d(256, eps=1e-05, momentum=0.1, affine=True, track_running_stats=True)\n",
       "    (conv): Conv2d(128, 256, kernel_size=(8, 3), stride=(2, 1), padding=(1, 0), bias=False)\n",
       "    (activation): LeakyReLU(negative_slope=0.01)\n",
       "  )\n",
       "  (down3): Block(\n",
       "    (batch_norm): BatchNorm2d(512, eps=1e-05, momentum=0.1, affine=True, track_running_stats=True)\n",
       "    (conv): Conv2d(256, 512, kernel_size=(7, 3), stride=(2, 1), bias=False)\n",
       "    (activation): LeakyReLU(negative_slope=0.01)\n",
       "  )\n",
       "  (down4): Block(\n",
       "    (batch_norm): BatchNorm2d(512, eps=1e-05, momentum=0.1, affine=True, track_running_stats=True)\n",
       "    (conv): Conv2d(512, 512, kernel_size=(8, 3), stride=(2, 1), bias=False)\n",
       "    (activation): LeakyReLU(negative_slope=0.01)\n",
       "  )\n",
       "  (down5): Block(\n",
       "    (batch_norm): BatchNorm2d(512, eps=1e-05, momentum=0.1, affine=True, track_running_stats=True)\n",
       "    (conv): Conv2d(512, 512, kernel_size=(7, 3), stride=(1, 1), bias=False)\n",
       "    (activation): LeakyReLU(negative_slope=0.01)\n",
       "  )\n",
       "  (down6): Block(\n",
       "    (batch_norm): BatchNorm2d(512, eps=1e-05, momentum=0.1, affine=True, track_running_stats=True)\n",
       "    (conv): Conv2d(512, 512, kernel_size=(4, 3), stride=(1, 1), bias=False)\n",
       "    (activation): LeakyReLU(negative_slope=0.01)\n",
       "  )\n",
       "  (bottleneck): Conv2d(512, 512, kernel_size=(4, 3), stride=(1, 1))\n",
       "  (up1): Block(\n",
       "    (batch_norm): BatchNorm2d(512, eps=1e-05, momentum=0.1, affine=True, track_running_stats=True)\n",
       "    (conv): ConvTranspose2d(512, 512, kernel_size=(4, 3), stride=(1, 1), bias=False)\n",
       "    (activation): ReLU()\n",
       "    (dropout): Dropout(p=0.5, inplace=False)\n",
       "  )\n",
       "  (up2): Block(\n",
       "    (batch_norm): BatchNorm2d(512, eps=1e-05, momentum=0.1, affine=True, track_running_stats=True)\n",
       "    (conv): ConvTranspose2d(1024, 512, kernel_size=(4, 3), stride=(1, 1), bias=False)\n",
       "    (activation): ReLU()\n",
       "    (dropout): Dropout(p=0.5, inplace=False)\n",
       "  )\n",
       "  (up3): Block(\n",
       "    (batch_norm): BatchNorm2d(512, eps=1e-05, momentum=0.1, affine=True, track_running_stats=True)\n",
       "    (conv): ConvTranspose2d(1024, 512, kernel_size=(7, 3), stride=(1, 1), bias=False)\n",
       "    (activation): ReLU()\n",
       "    (dropout): Dropout(p=0.5, inplace=False)\n",
       "  )\n",
       "  (up4): Block(\n",
       "    (batch_norm): BatchNorm2d(512, eps=1e-05, momentum=0.1, affine=True, track_running_stats=True)\n",
       "    (conv): ConvTranspose2d(1024, 512, kernel_size=(8, 3), stride=(2, 1), bias=False)\n",
       "    (activation): ReLU()\n",
       "  )\n",
       "  (up5): Block(\n",
       "    (batch_norm): BatchNorm2d(256, eps=1e-05, momentum=0.1, affine=True, track_running_stats=True)\n",
       "    (conv): ConvTranspose2d(1024, 256, kernel_size=(7, 3), stride=(2, 1), bias=False)\n",
       "    (activation): ReLU()\n",
       "  )\n",
       "  (up6): Block(\n",
       "    (batch_norm): BatchNorm2d(128, eps=1e-05, momentum=0.1, affine=True, track_running_stats=True)\n",
       "    (conv): ConvTranspose2d(512, 128, kernel_size=(8, 3), stride=(2, 1), padding=(1, 0), bias=False)\n",
       "    (activation): ReLU()\n",
       "  )\n",
       "  (up7): Block(\n",
       "    (batch_norm): BatchNorm2d(64, eps=1e-05, momentum=0.1, affine=True, track_running_stats=True)\n",
       "    (conv): ConvTranspose2d(256, 64, kernel_size=(8, 3), stride=(2, 1), padding=(1, 1), bias=False)\n",
       "    (activation): ReLU()\n",
       "  )\n",
       "  (final_up): ConvTranspose2d(128, 1, kernel_size=(8, 4), stride=(2, 1), padding=(1, 1))\n",
       ")"
      ]
     },
     "execution_count": 8,
     "metadata": {},
     "output_type": "execute_result"
    }
   ],
   "source": [
    "# Loading trained-only models\n",
    "model_path = '../model/static/CNN/BS16/3500_3516/ver27_/'\n",
    "LS_CNN_trained = CNN_Est2().to(device)\n",
    "checkpoint = (torch.load(model_path + str(snr)+'dB/CNN_1_LS_CNN_model.pth'))\n",
    "LS_CNN_trained.load_state_dict(checkpoint[\"model_state_dict\"])\n",
    "LS_CNN_trained.eval()\n",
    "#--------------------------------------------------\n",
    "LI_CNN_trained = CNN_Est2().to(device)\n",
    "checkpoint = (torch.load(model_path + str(snr)+'dB/CNN_1_LS_LI_CNN_model.pth'))\n",
    "LS_CNN_trained.load_state_dict(checkpoint[\"model_state_dict\"])\n",
    "LI_CNN_trained.eval()\n",
    "#--------------------------------------------------\n",
    "epoc_load = 40 # epoch to load saved models\n",
    "model_path = '../model/static/GAN/BS16/3500_3516/ver17_/'\n",
    "LS_GAN_trained = Generator().to(device)\n",
    "checkpoint = (torch.load(model_path + str(snr) + 'dB/' +str(epoc_load) + 'epoc_G_1_LS_GAN_model.pth'))\n",
    "LS_GAN_trained.load_state_dict(checkpoint[\"model_state_dict\"])\n",
    "LS_GAN_trained.eval()\n",
    "#--------------------------------------------------\n",
    "LI_GAN_trained = Generator().to(device) \n",
    "checkpoint = (torch.load(model_path + str(snr) + 'dB/' +str(epoc_load) + 'epoc_G_1_LS_LI_GAN_model.pth'))\n",
    "LS_GAN_trained.load_state_dict(checkpoint[\"model_state_dict\"])\n",
    "LI_GAN_trained.eval()\n",
    "\n",
    "############################################################\n",
    "# Loading transferred models\n",
    "model_path = '../transfer/transferd_model/static/'\n",
    "temp_model = CNN_Est()\n",
    "LS_CNN_transfer = FineTuneModel2(temp_model).to(device)\n",
    "if snr < 0:\n",
    "    checkpoint = (torch.load(model_path + 'CNN/ver11_/' + str(snr)+'dB/LS_CNN_model.pth'))\n",
    "else:\n",
    "    checkpoint = (torch.load(model_path + 'CNN/ver10_/' + str(snr)+'dB/LS_CNN_model.pth'))\n",
    "LS_CNN_transfer.load_state_dict(checkpoint[\"model_state_dict\"])\n",
    "LS_CNN_transfer.eval()\n",
    "#--------------------------------------------------\n",
    "LI_CNN_transfer = FineTuneModel2(temp_model).to(device)\n",
    "if snr < 0:\n",
    "    checkpoint = (torch.load(model_path + 'CNN/ver11_/' + str(snr)+'dB/LS_LI_CNN_model.pth'))\n",
    "else:\n",
    "    checkpoint = (torch.load(model_path + 'CNN/ver10_/' + str(snr)+'dB/LS_LI_CNN_model.pth'))\n",
    "LI_CNN_transfer.load_state_dict(checkpoint[\"model_state_dict\"])\n",
    "LI_CNN_transfer.eval()\n",
    "#--------------------------------------------------\n",
    "model_path = '../transfer/transferd_model/static/'\n",
    "temp_model = Generator()\n",
    "LS_GAN_transfer = Generator_FineTune(temp_model).to(device)\n",
    "checkpoint = (torch.load(model_path + 'GAN/ver9_/' + str(snr)+'dB/LS_GAN_G_model.pth'))\n",
    "LS_GAN_transfer.load_state_dict(checkpoint[\"model_state_dict\"])\n",
    "LS_GAN_transfer.eval()\n",
    "#--------------------------------------------------\n",
    "LI_GAN_transfer = Generator_FineTune(temp_model).to(device)\n",
    "checkpoint = (torch.load(model_path + 'GAN/ver9_/' + str(snr)+'dB/LS_LI_GAN_G_model.pth'))\n",
    "LI_GAN_transfer.load_state_dict(checkpoint[\"model_state_dict\"])\n",
    "LI_GAN_transfer.eval()"
   ]
  },
  {
   "cell_type": "code",
   "execution_count": 9,
   "metadata": {},
   "outputs": [
    {
     "data": {
      "text/plain": [
       "tensor([[[[ 0,  1],\n",
       "          [ 2,  3]],\n",
       "\n",
       "         [[ 4,  5],\n",
       "          [ 6,  7]]],\n",
       "\n",
       "\n",
       "        [[[12, 13],\n",
       "          [14, 15]],\n",
       "\n",
       "         [[12, 13],\n",
       "          [14, 15]]]])"
      ]
     },
     "execution_count": 9,
     "metadata": {},
     "output_type": "execute_result"
    }
   ],
   "source": [
    "N = 2\n",
    "k = 3\n",
    "d = 2\n",
    "\n",
    "L = torch.arange(N * k * d * d).view(N, k, d, d)\n",
    "index = torch.tensor([0,1,0,0]).view(N,-1)\n",
    "L[torch.arange(L.size(0)).unsqueeze(1), index]"
   ]
  },
  {
   "cell_type": "code",
   "execution_count": null,
   "metadata": {},
   "outputs": [],
   "source": [
    "from scipy.interpolate import griddata\n",
    "def Lin_Interpolate(Y_noise, pilot_Indices, pilot_Symbols):\n",
    "    \"\"\"\n",
    "    Perform linear interpolation of the grid and input the result to the neural network.\n",
    "    This helper function extracts the DM-RS symbols from pilot_Indices locations in\n",
    "    the received grid Y_noise and performs linear interpolation on the extracted pilots.\n",
    "    \"\"\"\n",
    "    \n",
    "    # Extract pilot symbol estimates (equivalent to MATLAB's dmrsRx and dmrsEsts)\n",
    "    dmrsRx = torch.empty_like(Y_noise)  # Target tensor\n",
    "    row_idx = pilot_Indices[:,0] - 1 # Convert to 0-based indexing\n",
    "    col_idx = pilot_Indices[:,1] - 1 # Convert to 0-based indexing\n",
    "    dmrsRx[:,row_idx, col_idx] = Y_noise[:,row_idx, col_idx]  # Extract pilot symbols\n",
    "    dmrsEsts = dmrsRx * torch.conj(pilot_Symbols)  # Element-wise multiplication with conjugated pilots\n",
    "\n",
    "    # Output tensors like in MATLAB\n",
    "    H_equalized = dmrsEsts.clone()\n",
    "    H_linear = torch.zeros_like(Y_noise, dtype=torch.complex64)\n",
    "    \n",
    "    known_values = H_equalized[:, row_idx, col_idx].numpy()  # Convert to NumPy for interpolation\n",
    "    \n",
    "    # Generate mesh grid for interpolation\n",
    "    grid_x, grid_y = np.meshgrid(np.arange(Y_noise.shape[2]), np.arange(Y_noise.shape[1]))  # Full (x, y) grid\n",
    "\n",
    "    \n",
    "    # Perform grid interpolation\n",
    "    interpolated = griddata(\n",
    "        (col_idx, row_idx),  # Known (x, y) positions\n",
    "        known_values,  # Known values\n",
    "        (grid_x, grid_y),  # Target grid\n",
    "        method='linear',  # Linear interpolation\n",
    "        fill_value=0  # Optional: fill NaNs with 0\n",
    "    )\n",
    "    \n",
    "    H_linear = torch.tensor(interpolated, dtype=torch.complex64).to(H_equalized.device)\n",
    "\n",
    "    return H_equalized, H_linear"
   ]
  },
  {
   "cell_type": "code",
   "execution_count": 11,
   "metadata": {},
   "outputs": [],
   "source": [
    "pilot = sio.loadmat('../../DeepMIMOv2/DeepMIMO_Data/pilot_value.mat')\n",
    "pilot_Indices = pilot['pilots_idx']\n",
    "pilot_Symbols = pilot['pilot_tx']\n",
    "\n",
    "pilot_Indices = torch.tensor(pilot_Indices, dtype=torch.int64).to(device)\n",
    "pilot_Symbols = torch.tensor(pilot_Symbols, dtype=torch.complex64).to(device)"
   ]
  },
  {
   "cell_type": "markdown",
   "metadata": {},
   "source": [
    "# Continue Coding from here"
   ]
  },
  {
   "cell_type": "code",
   "execution_count": 13,
   "metadata": {},
   "outputs": [
    {
     "name": "stdout",
     "output_type": "stream",
     "text": [
      "Batch shapes: H: torch.Size([32, 2, 612, 14]), X: torch.Size([32, 2, 612, 14]), Noise: torch.Size([32, 2, 612, 14])\n",
      "Value(False)\n"
     ]
    },
    {
     "name": "stderr",
     "output_type": "stream",
     "text": [
      "/tmp/ipykernel_3100267/3238546671.py:8: UserWarning: To copy construct from a tensor, it is recommended to use sourceTensor.clone().detach() or sourceTensor.clone().detach().requires_grad_(True), rather than torch.tensor(sourceTensor).\n",
      "  Y_noise = torch.tensor(Y_noise, dtype=torch.complex64)\n"
     ]
    },
    {
     "ename": "RuntimeError",
     "evalue": "Expected all tensors to be on the same device, but found at least two devices, cuda:0 and cpu!",
     "output_type": "error",
     "traceback": [
      "\u001b[0;31m---------------------------------------------------------------------------\u001b[0m",
      "\u001b[0;31mRuntimeError\u001b[0m                              Traceback (most recent call last)",
      "Cell \u001b[0;32mIn[13], line 19\u001b[0m\n\u001b[1;32m     17\u001b[0m Y_noise \u001b[38;5;241m=\u001b[39m h_complex \u001b[38;5;241m*\u001b[39m x_complex \u001b[38;5;241m+\u001b[39m n_complex \u001b[38;5;66;03m# Element-wise multiplication # 32, 612, 14\u001b[39;00m\n\u001b[1;32m     18\u001b[0m \u001b[38;5;28mprint\u001b[39m(\u001b[38;5;124mf\u001b[39m\u001b[38;5;124m\"\u001b[39m\u001b[38;5;124mBatch shapes: H: \u001b[39m\u001b[38;5;132;01m{\u001b[39;00mh\u001b[38;5;241m.\u001b[39mshape\u001b[38;5;132;01m}\u001b[39;00m\u001b[38;5;124m, X: \u001b[39m\u001b[38;5;132;01m{\u001b[39;00mx\u001b[38;5;241m.\u001b[39mshape\u001b[38;5;132;01m}\u001b[39;00m\u001b[38;5;124m, Noise: \u001b[39m\u001b[38;5;132;01m{\u001b[39;00mnoise\u001b[38;5;241m.\u001b[39mshape\u001b[38;5;132;01m}\u001b[39;00m\u001b[38;5;124m\"\u001b[39m)\n\u001b[0;32m---> 19\u001b[0m H_LS, H_LI \u001b[38;5;241m=\u001b[39m  \u001b[43mLin_Interpolate\u001b[49m\u001b[43m(\u001b[49m\u001b[43mY_noise\u001b[49m\u001b[43m,\u001b[49m\u001b[43m \u001b[49m\u001b[43mpilot_Indices\u001b[49m\u001b[43m,\u001b[49m\u001b[43m \u001b[49m\u001b[43mpilot_Symbols\u001b[49m\u001b[43m)\u001b[49m\n\u001b[1;32m     20\u001b[0m \u001b[38;5;28;01mbreak\u001b[39;00m\n",
      "Cell \u001b[0;32mIn[11], line 14\u001b[0m, in \u001b[0;36mLin_Interpolate\u001b[0;34m(Y_noise, pilot_Indices, pilot_Symbols)\u001b[0m\n\u001b[1;32m     12\u001b[0m row_idx \u001b[38;5;241m=\u001b[39m pilot_Indices[:,\u001b[38;5;241m0\u001b[39m] \u001b[38;5;241m-\u001b[39m \u001b[38;5;241m1\u001b[39m \u001b[38;5;66;03m# Convert to 0-based indexing\u001b[39;00m\n\u001b[1;32m     13\u001b[0m col_idx \u001b[38;5;241m=\u001b[39m pilot_Indices[:,\u001b[38;5;241m1\u001b[39m] \u001b[38;5;241m-\u001b[39m \u001b[38;5;241m1\u001b[39m \u001b[38;5;66;03m# Convert to 0-based indexing\u001b[39;00m\n\u001b[0;32m---> 14\u001b[0m \u001b[43mdmrsRx\u001b[49m\u001b[43m[\u001b[49m\u001b[43m:\u001b[49m\u001b[43m,\u001b[49m\u001b[43mrow_idx\u001b[49m\u001b[43m,\u001b[49m\u001b[43m \u001b[49m\u001b[43mcol_idx\u001b[49m\u001b[43m]\u001b[49m \u001b[38;5;241m=\u001b[39m Y_noise[:,row_idx, col_idx]  \u001b[38;5;66;03m# Extract pilot symbols\u001b[39;00m\n\u001b[1;32m     15\u001b[0m dmrsEsts \u001b[38;5;241m=\u001b[39m dmrsRx \u001b[38;5;241m*\u001b[39m torch\u001b[38;5;241m.\u001b[39mconj(pilot_Symbols)  \u001b[38;5;66;03m# Element-wise multiplication with conjugated pilots\u001b[39;00m\n\u001b[1;32m     17\u001b[0m \u001b[38;5;66;03m# Output tensors like in MATLAB\u001b[39;00m\n",
      "\u001b[0;31mRuntimeError\u001b[0m: Expected all tensors to be on the same device, but found at least two devices, cuda:0 and cpu!"
     ]
    }
   ],
   "source": [
    "# Create TensorDataset\n",
    "dataset = TensorDataset(H_data, X_data, Noise)\n",
    "\n",
    "# Create DataLoader\n",
    "batch_size = 32\n",
    "dataloader = DataLoader(dataset, batch_size=batch_size, shuffle=True)\n",
    "\n",
    "\n",
    "# Test the dataloader\n",
    "for batch_idx, batch in enumerate(dataloader):\n",
    "    h, x, noise = batch\n",
    "        # h == tensor [32,2,612,14] , x == [32,2,612,14], noise == [32,2,612,14]\n",
    "    # creating complex values\n",
    "    h_complex = torch.complex(h[:,0,:,:], h[:,1,:,:])\n",
    "    x_complex = torch.complex(x[:,0,:,:], x[:,1,:,:])\n",
    "    n_complex = torch.complex(noise[:,0,:,:], noise[:,1,:,:])\n",
    "    Y_noise = h_complex * x_complex + n_complex # Element-wise multiplication # 32, 612, 14\n",
    "    print(f\"Batch shapes: H: {h.shape}, X: {x.shape}, Noise: {noise.shape}\")\n",
    "    H_LS, H_LI =  Lin_Interpolate(Y_noise, pilot_Indices, pilot_Symbols)\n",
    "    break\n",
    "    \n"
   ]
  },
  {
   "cell_type": "code",
   "execution_count": null,
   "metadata": {},
   "outputs": [],
   "source": []
  },
  {
   "cell_type": "code",
   "execution_count": null,
   "metadata": {},
   "outputs": [],
   "source": []
  }
 ],
 "metadata": {
  "kernelspec": {
   "display_name": "Torch_GPU",
   "language": "python",
   "name": "python3"
  },
  "language_info": {
   "codemirror_mode": {
    "name": "ipython",
    "version": 3
   },
   "file_extension": ".py",
   "mimetype": "text/x-python",
   "name": "python",
   "nbconvert_exporter": "python",
   "pygments_lexer": "ipython3",
   "version": "3.8.19"
  }
 },
 "nbformat": 4,
 "nbformat_minor": 2
}
