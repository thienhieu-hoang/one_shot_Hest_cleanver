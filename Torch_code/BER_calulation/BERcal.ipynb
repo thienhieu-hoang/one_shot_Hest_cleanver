{
 "cells": [
  {
   "cell_type": "code",
   "execution_count": 1,
   "metadata": {},
   "outputs": [],
   "source": [
    "import scipy.io as sio\n",
    "import torch\n",
    "from torch. utils.data import TensorDataset, DataLoader\n",
    "import numpy as np\n",
    "import h5py"
   ]
  },
  {
   "cell_type": "code",
   "execution_count": 2,
   "metadata": {},
   "outputs": [],
   "source": [
    "import sys\n",
    "import os\n",
    "# Get the parent directory of the current folder\n",
    "parent_dir = os.path.abspath(os.path.join(os.getcwd(), \"..\"))\n",
    "\n",
    "# Add the parent directory to sys.path so Python can find the helper folder\n",
    "sys.path.append(parent_dir)\n",
    "\n",
    "# to load models\n",
    "from train.Pix2Pix.helperPix2Pix.discriminator_model import Discriminator\n",
    "from train.Pix2Pix.helperPix2Pix.generator_model import Generator, Generator_FineTune\n",
    "from helper.utils import CNN_Est2, CNN_Est\n",
    "from helper.utils_transfer import FineTuneModel2"
   ]
  },
  {
   "cell_type": "code",
   "execution_count": 3,
   "metadata": {},
   "outputs": [
    {
     "name": "stdout",
     "output_type": "stream",
     "text": [
      "Using device: cuda\n"
     ]
    }
   ],
   "source": [
    "device = torch.device('cuda' if torch.cuda.is_available() else 'cpu')\n",
    "print(f\"Using device: {device}\")"
   ]
  },
  {
   "cell_type": "code",
   "execution_count": 4,
   "metadata": {},
   "outputs": [
    {
     "name": "stdout",
     "output_type": "stream",
     "text": [
      "snr -25/30\n",
      "snr -20/30\n",
      "snr -15/30\n",
      "snr -10/30\n",
      "snr -5/30\n",
      "snr 0/30\n",
      "snr 5/30\n",
      "snr 10/30\n",
      "snr 15/30\n",
      "snr 20/30\n",
      "snr 25/30\n",
      "snr 30/30\n"
     ]
    }
   ],
   "source": [
    "domain = \"mapBased\"\n",
    "for snr in np.arange(-25, 35, 5):  \n",
    "    print(f\"snr {snr}/30\")"
   ]
  },
  {
   "cell_type": "code",
   "execution_count": 5,
   "metadata": {},
   "outputs": [
    {
     "name": "stderr",
     "output_type": "stream",
     "text": [
      "/home/thien/miniconda3/envs/Torch_GPU/lib/python3.8/site-packages/scipy/io/matlab/_mio.py:227: MatReadWarning: Duplicate variable name \"None\" in stream - replacing previous with new\n",
      "Consider mio5.varmats_from_mat to split file into single variable files\n",
      "  matfile_dict = MR.get_variables(variable_names)\n"
     ]
    }
   ],
   "source": [
    "# Load the .mat file\n",
    "if domain == \"DeepMIMO\":\n",
    "    row = '3500_3516'\n",
    "    dataFile = '../../DeepMIMOv2/DeepMIMO_Data/Static_BS16/freq_symb_1ant_612sub_ver4/Gan_' + str(snr) +'_dBOutdoor1_3p4_1ant_612subcs_Row_' + str(row) + '.mat'\n",
    "    mat_data = h5py.File(dataFile, 'r')     # load Y, H, N\n",
    "    \n",
    "elif domain == \"mapBased\":\n",
    "    dataFile = '../../CDL Customization/Data/ver39_/' + str(snr) + 'dB/1_mapBaseData.mat'\n",
    "    mat_data = h5py.File(dataFile, 'r')     # load Y, H, N\n",
    "    \n",
    "H_data = np.array(mat_data['H_data'])                # Shape: (N, 2, 612, 14 )\n",
    "H_linear_data = np.array(mat_data['H_linear_data'])  \n",
    "    # H_equalized_data = np.array(mat_data['H_equalized_data'])  \n",
    "Y_data = np.array(mat_data['Y_data'])                \n",
    "Noise = np.array(mat_data['Noise'])                  \n",
    "\n",
    "mat_data2 = sio.loadmat('../../DeepMIMOv2/DeepMIMO_Data/TransmitedGrid.mat') # load X (transmitted grid)\n",
    "X = np.transpose(mat_data2['X'], (3, 2, 1, 0)) "
   ]
  },
  {
   "cell_type": "code",
   "execution_count": 6,
   "metadata": {},
   "outputs": [],
   "source": [
    "# Verify that all tensors have the same first dimension\n",
    "num_samples = H_data.shape[0]\n",
    "\n",
    "# Randomly select {num_samples} unique indices from 10000 samples of X\n",
    "random_indices = np.random.choice(X.shape[0], num_samples, replace=False)\n",
    "# Extract the selected samples\n",
    "X_data = X[random_indices, :, :, :]  # Shape: (14, 612, 2, {num_samples})"
   ]
  },
  {
   "cell_type": "code",
   "execution_count": 7,
   "metadata": {},
   "outputs": [],
   "source": [
    "# Convert to PyTorch tensors\n",
    "# Assuming complex data; split into real and imaginary if needed\n",
    "H_data = torch.tensor(H_data, dtype=torch.float32).to(device)\n",
    "# H_linear_data = torch.tensor(H_linear_data, dtype=torch.float32).to(device)\n",
    "# H_equalized_data = torch.tensor(H_equalized_data, dtype=torch.float32).to(device)\n",
    "Y_data = torch.tensor(Y_data, dtype=torch.float32).to(device)\n",
    "Noise = torch.tensor(Noise, dtype=torch.float32).to(device)\n",
    "X_data = torch.tensor(X_data, dtype=torch.float32).to(device)"
   ]
  },
  {
   "cell_type": "code",
   "execution_count": 8,
   "metadata": {},
   "outputs": [
    {
     "name": "stderr",
     "output_type": "stream",
     "text": [
      "/tmp/ipykernel_3105030/2808721120.py:4: FutureWarning: You are using `torch.load` with `weights_only=False` (the current default value), which uses the default pickle module implicitly. It is possible to construct malicious pickle data which will execute arbitrary code during unpickling (See https://github.com/pytorch/pytorch/blob/main/SECURITY.md#untrusted-models for more details). In a future release, the default value for `weights_only` will be flipped to `True`. This limits the functions that could be executed during unpickling. Arbitrary objects will no longer be allowed to be loaded via this mode unless they are explicitly allowlisted by the user via `torch.serialization.add_safe_globals`. We recommend you start setting `weights_only=True` for any use case where you don't have full control of the loaded file. Please open an issue on GitHub for any issues related to this experimental feature.\n",
      "  checkpoint = (torch.load(model_path + str(snr)+'dB/CNN_1_LS_CNN_model.pth'))\n",
      "/tmp/ipykernel_3105030/2808721120.py:9: FutureWarning: You are using `torch.load` with `weights_only=False` (the current default value), which uses the default pickle module implicitly. It is possible to construct malicious pickle data which will execute arbitrary code during unpickling (See https://github.com/pytorch/pytorch/blob/main/SECURITY.md#untrusted-models for more details). In a future release, the default value for `weights_only` will be flipped to `True`. This limits the functions that could be executed during unpickling. Arbitrary objects will no longer be allowed to be loaded via this mode unless they are explicitly allowlisted by the user via `torch.serialization.add_safe_globals`. We recommend you start setting `weights_only=True` for any use case where you don't have full control of the loaded file. Please open an issue on GitHub for any issues related to this experimental feature.\n",
      "  checkpoint = (torch.load(model_path + str(snr)+'dB/CNN_1_LS_LI_CNN_model.pth'))\n",
      "/tmp/ipykernel_3105030/2808721120.py:16: FutureWarning: You are using `torch.load` with `weights_only=False` (the current default value), which uses the default pickle module implicitly. It is possible to construct malicious pickle data which will execute arbitrary code during unpickling (See https://github.com/pytorch/pytorch/blob/main/SECURITY.md#untrusted-models for more details). In a future release, the default value for `weights_only` will be flipped to `True`. This limits the functions that could be executed during unpickling. Arbitrary objects will no longer be allowed to be loaded via this mode unless they are explicitly allowlisted by the user via `torch.serialization.add_safe_globals`. We recommend you start setting `weights_only=True` for any use case where you don't have full control of the loaded file. Please open an issue on GitHub for any issues related to this experimental feature.\n",
      "  checkpoint = (torch.load(model_path + str(snr) + 'dB/' +str(epoc_load) + 'epoc_G_1_LS_GAN_model.pth'))\n",
      "/tmp/ipykernel_3105030/2808721120.py:21: FutureWarning: You are using `torch.load` with `weights_only=False` (the current default value), which uses the default pickle module implicitly. It is possible to construct malicious pickle data which will execute arbitrary code during unpickling (See https://github.com/pytorch/pytorch/blob/main/SECURITY.md#untrusted-models for more details). In a future release, the default value for `weights_only` will be flipped to `True`. This limits the functions that could be executed during unpickling. Arbitrary objects will no longer be allowed to be loaded via this mode unless they are explicitly allowlisted by the user via `torch.serialization.add_safe_globals`. We recommend you start setting `weights_only=True` for any use case where you don't have full control of the loaded file. Please open an issue on GitHub for any issues related to this experimental feature.\n",
      "  checkpoint = (torch.load(model_path + str(snr) + 'dB/' +str(epoc_load) + 'epoc_G_1_LS_LI_GAN_model.pth'))\n",
      "/tmp/ipykernel_3105030/2808721120.py:33: FutureWarning: You are using `torch.load` with `weights_only=False` (the current default value), which uses the default pickle module implicitly. It is possible to construct malicious pickle data which will execute arbitrary code during unpickling (See https://github.com/pytorch/pytorch/blob/main/SECURITY.md#untrusted-models for more details). In a future release, the default value for `weights_only` will be flipped to `True`. This limits the functions that could be executed during unpickling. Arbitrary objects will no longer be allowed to be loaded via this mode unless they are explicitly allowlisted by the user via `torch.serialization.add_safe_globals`. We recommend you start setting `weights_only=True` for any use case where you don't have full control of the loaded file. Please open an issue on GitHub for any issues related to this experimental feature.\n",
      "  checkpoint = (torch.load(model_path + 'CNN/ver10_/' + str(snr)+'dB/LS_CNN_model.pth'))\n",
      "/tmp/ipykernel_3105030/2808721120.py:41: FutureWarning: You are using `torch.load` with `weights_only=False` (the current default value), which uses the default pickle module implicitly. It is possible to construct malicious pickle data which will execute arbitrary code during unpickling (See https://github.com/pytorch/pytorch/blob/main/SECURITY.md#untrusted-models for more details). In a future release, the default value for `weights_only` will be flipped to `True`. This limits the functions that could be executed during unpickling. Arbitrary objects will no longer be allowed to be loaded via this mode unless they are explicitly allowlisted by the user via `torch.serialization.add_safe_globals`. We recommend you start setting `weights_only=True` for any use case where you don't have full control of the loaded file. Please open an issue on GitHub for any issues related to this experimental feature.\n",
      "  checkpoint = (torch.load(model_path + 'CNN/ver10_/' + str(snr)+'dB/LS_LI_CNN_model.pth'))\n",
      "/tmp/ipykernel_3105030/2808721120.py:48: FutureWarning: You are using `torch.load` with `weights_only=False` (the current default value), which uses the default pickle module implicitly. It is possible to construct malicious pickle data which will execute arbitrary code during unpickling (See https://github.com/pytorch/pytorch/blob/main/SECURITY.md#untrusted-models for more details). In a future release, the default value for `weights_only` will be flipped to `True`. This limits the functions that could be executed during unpickling. Arbitrary objects will no longer be allowed to be loaded via this mode unless they are explicitly allowlisted by the user via `torch.serialization.add_safe_globals`. We recommend you start setting `weights_only=True` for any use case where you don't have full control of the loaded file. Please open an issue on GitHub for any issues related to this experimental feature.\n",
      "  checkpoint = (torch.load(model_path + 'GAN/ver9_/' + str(snr)+'dB/LS_GAN_G_model.pth'))\n",
      "/tmp/ipykernel_3105030/2808721120.py:53: FutureWarning: You are using `torch.load` with `weights_only=False` (the current default value), which uses the default pickle module implicitly. It is possible to construct malicious pickle data which will execute arbitrary code during unpickling (See https://github.com/pytorch/pytorch/blob/main/SECURITY.md#untrusted-models for more details). In a future release, the default value for `weights_only` will be flipped to `True`. This limits the functions that could be executed during unpickling. Arbitrary objects will no longer be allowed to be loaded via this mode unless they are explicitly allowlisted by the user via `torch.serialization.add_safe_globals`. We recommend you start setting `weights_only=True` for any use case where you don't have full control of the loaded file. Please open an issue on GitHub for any issues related to this experimental feature.\n",
      "  checkpoint = (torch.load(model_path + 'GAN/ver9_/' + str(snr)+'dB/LS_LI_GAN_G_model.pth'))\n"
     ]
    },
    {
     "data": {
      "text/plain": [
       "Generator_FineTune(\n",
       "  (initial_down): Conv2d(1, 64, kernel_size=(8, 4), stride=(2, 1), padding=(1, 1), padding_mode=reflect)\n",
       "  (act_tanh): Tanh()\n",
       "  (act_leaky): LeakyReLU(negative_slope=0.01)\n",
       "  (act_relu): ReLU()\n",
       "  (down1): Block(\n",
       "    (batch_norm): BatchNorm2d(128, eps=1e-05, momentum=0.1, affine=True, track_running_stats=True)\n",
       "    (conv): Conv2d(64, 128, kernel_size=(8, 3), stride=(2, 1), padding=(1, 1), bias=False)\n",
       "    (activation): LeakyReLU(negative_slope=0.01)\n",
       "  )\n",
       "  (down2): Block(\n",
       "    (batch_norm): BatchNorm2d(256, eps=1e-05, momentum=0.1, affine=True, track_running_stats=True)\n",
       "    (conv): Conv2d(128, 256, kernel_size=(8, 3), stride=(2, 1), padding=(1, 0), bias=False)\n",
       "    (activation): LeakyReLU(negative_slope=0.01)\n",
       "  )\n",
       "  (down3): Block(\n",
       "    (batch_norm): BatchNorm2d(512, eps=1e-05, momentum=0.1, affine=True, track_running_stats=True)\n",
       "    (conv): Conv2d(256, 512, kernel_size=(7, 3), stride=(2, 1), bias=False)\n",
       "    (activation): LeakyReLU(negative_slope=0.01)\n",
       "  )\n",
       "  (down4): Block(\n",
       "    (batch_norm): BatchNorm2d(512, eps=1e-05, momentum=0.1, affine=True, track_running_stats=True)\n",
       "    (conv): Conv2d(512, 512, kernel_size=(8, 3), stride=(2, 1), bias=False)\n",
       "    (activation): LeakyReLU(negative_slope=0.01)\n",
       "  )\n",
       "  (down5): Block(\n",
       "    (batch_norm): BatchNorm2d(512, eps=1e-05, momentum=0.1, affine=True, track_running_stats=True)\n",
       "    (conv): Conv2d(512, 512, kernel_size=(7, 3), stride=(1, 1), bias=False)\n",
       "    (activation): LeakyReLU(negative_slope=0.01)\n",
       "  )\n",
       "  (down6): Block(\n",
       "    (batch_norm): BatchNorm2d(512, eps=1e-05, momentum=0.1, affine=True, track_running_stats=True)\n",
       "    (conv): Conv2d(512, 512, kernel_size=(4, 3), stride=(1, 1), bias=False)\n",
       "    (activation): LeakyReLU(negative_slope=0.01)\n",
       "  )\n",
       "  (bottleneck): Conv2d(512, 512, kernel_size=(4, 3), stride=(1, 1))\n",
       "  (up1): Block(\n",
       "    (batch_norm): BatchNorm2d(512, eps=1e-05, momentum=0.1, affine=True, track_running_stats=True)\n",
       "    (conv): ConvTranspose2d(512, 512, kernel_size=(4, 3), stride=(1, 1), bias=False)\n",
       "    (activation): ReLU()\n",
       "    (dropout): Dropout(p=0.5, inplace=False)\n",
       "  )\n",
       "  (up2): Block(\n",
       "    (batch_norm): BatchNorm2d(512, eps=1e-05, momentum=0.1, affine=True, track_running_stats=True)\n",
       "    (conv): ConvTranspose2d(1024, 512, kernel_size=(4, 3), stride=(1, 1), bias=False)\n",
       "    (activation): ReLU()\n",
       "    (dropout): Dropout(p=0.5, inplace=False)\n",
       "  )\n",
       "  (up3): Block(\n",
       "    (batch_norm): BatchNorm2d(512, eps=1e-05, momentum=0.1, affine=True, track_running_stats=True)\n",
       "    (conv): ConvTranspose2d(1024, 512, kernel_size=(7, 3), stride=(1, 1), bias=False)\n",
       "    (activation): ReLU()\n",
       "    (dropout): Dropout(p=0.5, inplace=False)\n",
       "  )\n",
       "  (up4): Block(\n",
       "    (batch_norm): BatchNorm2d(512, eps=1e-05, momentum=0.1, affine=True, track_running_stats=True)\n",
       "    (conv): ConvTranspose2d(1024, 512, kernel_size=(8, 3), stride=(2, 1), bias=False)\n",
       "    (activation): ReLU()\n",
       "  )\n",
       "  (up5): Block(\n",
       "    (batch_norm): BatchNorm2d(256, eps=1e-05, momentum=0.1, affine=True, track_running_stats=True)\n",
       "    (conv): ConvTranspose2d(1024, 256, kernel_size=(7, 3), stride=(2, 1), bias=False)\n",
       "    (activation): ReLU()\n",
       "  )\n",
       "  (up6): Block(\n",
       "    (batch_norm): BatchNorm2d(128, eps=1e-05, momentum=0.1, affine=True, track_running_stats=True)\n",
       "    (conv): ConvTranspose2d(512, 128, kernel_size=(8, 3), stride=(2, 1), padding=(1, 0), bias=False)\n",
       "    (activation): ReLU()\n",
       "  )\n",
       "  (up7): Block(\n",
       "    (batch_norm): BatchNorm2d(64, eps=1e-05, momentum=0.1, affine=True, track_running_stats=True)\n",
       "    (conv): ConvTranspose2d(256, 64, kernel_size=(8, 3), stride=(2, 1), padding=(1, 1), bias=False)\n",
       "    (activation): ReLU()\n",
       "  )\n",
       "  (final_up): ConvTranspose2d(128, 1, kernel_size=(8, 4), stride=(2, 1), padding=(1, 1))\n",
       ")"
      ]
     },
     "execution_count": 8,
     "metadata": {},
     "output_type": "execute_result"
    }
   ],
   "source": [
    "# Loading trained-only models\n",
    "model_path = '../model/static/CNN/BS16/3500_3516/ver27_/'\n",
    "LS_CNN_trained = CNN_Est2().to(device)\n",
    "checkpoint = (torch.load(model_path + str(snr)+'dB/CNN_1_LS_CNN_model.pth'))\n",
    "LS_CNN_trained.load_state_dict(checkpoint[\"model_state_dict\"])\n",
    "LS_CNN_trained.eval()\n",
    "#--------------------------------------------------\n",
    "LI_CNN_trained = CNN_Est2().to(device)\n",
    "checkpoint = (torch.load(model_path + str(snr)+'dB/CNN_1_LS_LI_CNN_model.pth'))\n",
    "LS_CNN_trained.load_state_dict(checkpoint[\"model_state_dict\"])\n",
    "LI_CNN_trained.eval()\n",
    "#--------------------------------------------------\n",
    "epoc_load = 40 # epoch to load saved models\n",
    "model_path = '../model/static/GAN/BS16/3500_3516/ver17_/'\n",
    "LS_GAN_trained = Generator().to(device)\n",
    "checkpoint = (torch.load(model_path + str(snr) + 'dB/' +str(epoc_load) + 'epoc_G_1_LS_GAN_model.pth'))\n",
    "LS_GAN_trained.load_state_dict(checkpoint[\"model_state_dict\"])\n",
    "LS_GAN_trained.eval()\n",
    "#--------------------------------------------------\n",
    "LI_GAN_trained = Generator().to(device) \n",
    "checkpoint = (torch.load(model_path + str(snr) + 'dB/' +str(epoc_load) + 'epoc_G_1_LS_LI_GAN_model.pth'))\n",
    "LS_GAN_trained.load_state_dict(checkpoint[\"model_state_dict\"])\n",
    "LI_GAN_trained.eval()\n",
    "\n",
    "############################################################\n",
    "# Loading transferred models\n",
    "model_path = '../transfer/transferd_model/static/'\n",
    "temp_model = CNN_Est()\n",
    "LS_CNN_transfer = FineTuneModel2(temp_model).to(device)\n",
    "if snr < 0:\n",
    "    checkpoint = (torch.load(model_path + 'CNN/ver11_/' + str(snr)+'dB/LS_CNN_model.pth'))\n",
    "else:\n",
    "    checkpoint = (torch.load(model_path + 'CNN/ver10_/' + str(snr)+'dB/LS_CNN_model.pth'))\n",
    "LS_CNN_transfer.load_state_dict(checkpoint[\"model_state_dict\"])\n",
    "LS_CNN_transfer.eval()\n",
    "#--------------------------------------------------\n",
    "LI_CNN_transfer = FineTuneModel2(temp_model).to(device)\n",
    "if snr < 0:\n",
    "    checkpoint = (torch.load(model_path + 'CNN/ver11_/' + str(snr)+'dB/LS_LI_CNN_model.pth'))\n",
    "else:\n",
    "    checkpoint = (torch.load(model_path + 'CNN/ver10_/' + str(snr)+'dB/LS_LI_CNN_model.pth'))\n",
    "LI_CNN_transfer.load_state_dict(checkpoint[\"model_state_dict\"])\n",
    "LI_CNN_transfer.eval()\n",
    "#--------------------------------------------------\n",
    "model_path = '../transfer/transferd_model/static/'\n",
    "temp_model = Generator()\n",
    "LS_GAN_transfer = Generator_FineTune(temp_model).to(device)\n",
    "checkpoint = (torch.load(model_path + 'GAN/ver9_/' + str(snr)+'dB/LS_GAN_G_model.pth'))\n",
    "LS_GAN_transfer.load_state_dict(checkpoint[\"model_state_dict\"])\n",
    "LS_GAN_transfer.eval()\n",
    "#--------------------------------------------------\n",
    "LI_GAN_transfer = Generator_FineTune(temp_model).to(device)\n",
    "checkpoint = (torch.load(model_path + 'GAN/ver9_/' + str(snr)+'dB/LS_LI_GAN_G_model.pth'))\n",
    "LI_GAN_transfer.load_state_dict(checkpoint[\"model_state_dict\"])\n",
    "LI_GAN_transfer.eval()"
   ]
  },
  {
   "cell_type": "code",
   "execution_count": 9,
   "metadata": {},
   "outputs": [
    {
     "data": {
      "text/plain": [
       "tensor([[[[ 0,  1],\n",
       "          [ 2,  3]],\n",
       "\n",
       "         [[ 4,  5],\n",
       "          [ 6,  7]]],\n",
       "\n",
       "\n",
       "        [[[12, 13],\n",
       "          [14, 15]],\n",
       "\n",
       "         [[12, 13],\n",
       "          [14, 15]]]])"
      ]
     },
     "execution_count": 9,
     "metadata": {},
     "output_type": "execute_result"
    }
   ],
   "source": [
    "N = 2\n",
    "k = 3\n",
    "d = 2\n",
    "\n",
    "L = torch.arange(N * k * d * d).view(N, k, d, d)\n",
    "index = torch.tensor([0,1,0,0]).view(N,-1)\n",
    "L[torch.arange(L.size(0)).unsqueeze(1), index]"
   ]
  },
  {
   "cell_type": "code",
   "execution_count": 10,
   "metadata": {},
   "outputs": [],
   "source": [
    "pilot = sio.loadmat('../../DeepMIMOv2/DeepMIMO_Data/pilot_value.mat')\n",
    "pilot_Indices = pilot['pilots_idx']\n",
    "pilot_Symbols = pilot['pilot_tx']\n",
    "\n",
    "pilot_Indices = torch.tensor(pilot_Indices, dtype=torch.int64).to(device)\n",
    "pilot_Symbols = torch.tensor(pilot_Symbols, dtype=torch.complex64).to(device)"
   ]
  },
  {
   "cell_type": "markdown",
   "metadata": {},
   "source": [
    "# Continue Coding from here"
   ]
  },
  {
   "cell_type": "code",
   "execution_count": null,
   "metadata": {},
   "outputs": [
    {
     "name": "stdout",
     "output_type": "stream",
     "text": [
      "Batch shapes: H: torch.Size([32, 2, 612, 14]), X: torch.Size([32, 2, 612, 14]), Noise: torch.Size([32, 2, 612, 14])\n"
     ]
    },
    {
     "name": "stderr",
     "output_type": "stream",
     "text": [
      "/home/thien/Hprediction/one_shot_Hest_cleanver/Torch_code/BER_calulation/helper_BER.py:57: UserWarning: To copy construct from a tensor, it is recommended to use sourceTensor.clone().detach() or sourceTensor.clone().detach().requires_grad_(True), rather than torch.tensor(sourceTensor).\n",
      "  H_linear = torch.tensor(H_linear, dtype=torch.complex64).to(H_equalized.device)\n"
     ]
    }
   ],
   "source": [
    "from helper_BER import helperLinearInterp, linear_extrapolation_matrix\n",
    "from helper.utils import minmaxScaler\n",
    "# Create TensorDataset\n",
    "dataset = TensorDataset(H_data, X_data, Noise)\n",
    "\n",
    "# Create DataLoader\n",
    "batch_size = 32\n",
    "dataloader = DataLoader(dataset, batch_size=batch_size, shuffle=True)\n",
    "\n",
    "\n",
    "# Test the dataloader\n",
    "for batch_idx, batch in enumerate(dataloader):\n",
    "    h, x, noise = batch\n",
    "        # h == tensor [32,2,612,14] , x == [32,2,612,14], noise == [32,2,612,14]\n",
    "    # creating complex values\n",
    "    h_complex = torch.complex(h[:,0,:,:], h[:,1,:,:])\n",
    "    x_complex = torch.complex(x[:,0,:,:], x[:,1,:,:])\n",
    "    n_complex = torch.complex(noise[:,0,:,:], noise[:,1,:,:])\n",
    "    Y_noise = h_complex * x_complex + n_complex # Element-wise multiplication # 32, 612, 14\n",
    "    print(f\"Batch shapes: H: {h.shape}, X: {x.shape}, Noise: {noise.shape}\")\n",
    "    H_equalized, H_linear =  helperLinearInterp(Y_noise, pilot_Indices, pilot_Symbols)\n",
    "    \n",
    "    H_LS  = torch.cat((torch.tensor(H_equalized.real).unsqueeze(1), torch.tensor(H_equalized.imag).unsqueeze(1)), dim=1)  # Shape: [32, 2, 612, 14]\n",
    "    H_LI  = torch.cat((torch.tensor(H_linear.real).unsqueeze(1), torch.tensor(H_linear.imag).unsqueeze(1)), dim=1)  # Shape: [32, 2, 612, 14]\n",
    "\n",
    "    # normalized data\n",
    "    H_LS_normd, test_LS_min, test_LS_max = minmaxScaler(H_LS)\n",
    "    H_LI_normd, test_LI_min, test_LI_max = minmaxScaler(H_LI)\n",
    "        # testData_LS_normd = [32, 2, 612, 14] tensor, cpu \n",
    "        # test_LS_min = [32, 2] tensor, device  -- min of [32, real-imag]\n",
    "    \n",
    "    min_maxLS = torch.stack((test_LS_min, test_LS_max), dim=1)\n",
    "    min_maxLI = torch.stack((test_LI_min, test_LI_max), dim=1)\n",
    "        # [32, 2, 2] -- [:, 0, 0] = min, real       [:, 0, 1] = min, imag \n",
    "        #               [:, 1, 0] = max, real       [:, 1, 1] = max, imag\n",
    "        \n",
    "        \n",
    "    \n",
    "    break\n",
    "    \n"
   ]
  },
  {
   "cell_type": "code",
   "execution_count": null,
   "metadata": {},
   "outputs": [],
   "source": []
  }
 ],
 "metadata": {
  "kernelspec": {
   "display_name": "Torch_GPU",
   "language": "python",
   "name": "python3"
  },
  "language_info": {
   "codemirror_mode": {
    "name": "ipython",
    "version": 3
   },
   "file_extension": ".py",
   "mimetype": "text/x-python",
   "name": "python",
   "nbconvert_exporter": "python",
   "pygments_lexer": "ipython3",
   "version": "3.8.19"
  }
 },
 "nbformat": 4,
 "nbformat_minor": 4
}
